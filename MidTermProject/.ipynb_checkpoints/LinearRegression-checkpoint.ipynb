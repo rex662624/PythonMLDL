{
 "cells": [
  {
   "cell_type": "markdown",
   "metadata": {},
   "source": [
    "### 此檔案定義 Linear Regression 相關 function"
   ]
  },
  {
   "cell_type": "code",
   "execution_count": 1,
   "metadata": {},
   "outputs": [],
   "source": [
    "from sklearn.linear_model import LinearRegression\n",
    "from sklearn.model_selection import train_test_split\n",
    "from sklearn.preprocessing import PolynomialFeatures "
   ]
  },
  {
   "cell_type": "code",
   "execution_count": 2,
   "metadata": {},
   "outputs": [],
   "source": [
    "#這個function是用來替我們本來的data加上多次方項\n",
    "def AddpolynomialFeature(data,degree):\n",
    "    for i in range(2,degree+1):\n",
    "        data['Sex'+str(i)] = data['Sex']**i\n",
    "        data['Length'+str(i)] = data['Length']**i\n",
    "        data['Diameter'+str(i)] = data['Diameter']**i\n",
    "        data['Height'+str(i)] = data['Height']**i\n",
    "        data['Whole weight'+str(i)] = data['Whole weight']**i\n",
    "        data['Shucked weight'+str(i)] = data['Shucked weight']**i\n",
    "        data['Viscera weight'+str(i)] = data['Viscera weight']**i\n",
    "        data['Shell weight'+str(i)] = data['Shell weight']**i"
   ]
  },
  {
   "cell_type": "code",
   "execution_count": 3,
   "metadata": {},
   "outputs": [],
   "source": [
    "#這裡是直接呼叫 library 的linear regression\n",
    "def LinearR_CallFunc(x_train,x_test,y_train,y_test): \n",
    "    model = LinearRegression() \n",
    "    model.fit(x_train,y_train)\n",
    "    Y_pred = model.predict(x_test)\n",
    "    print('Call Library得到的R^2分數: '+str(model.score(x_test,y_test)))"
   ]
  },
  {
   "cell_type": "markdown",
   "metadata": {},
   "source": [
    "### 從頭開始做 linear regression的function"
   ]
  },
  {
   "cell_type": "code",
   "execution_count": 3,
   "metadata": {},
   "outputs": [],
   "source": [
    "\n",
    "def CostFunction(θ,x,y): #Cost function\n",
    "    m = x.shape[0] # training set 共有幾組\n",
    "    assert(θ.shape[0]==x.shape[1])#先確定他們的dim一樣\n",
    "    h = x @ θ #這是我們的hypothesis 也就是 θ0X0+θ1X1......θnXn = y 用 matmul，矩陣乘法一次算出全部\n",
    "    return(float(sum(np.multiply((h-y),(h-y)))/(2*m))) #multiply是elementwise 的乘法 (或用float((((h-y).T @ (h-y))/(2*m))))\n",
    "\n",
    "def GradientDescent(x,y,θ,α,num_iters):\n",
    "    m = x.shape[0] # training set 共有幾組\n",
    "    J = np.zeros((num_iters,1))#我們把每一次的J都存起來，因為要是gradient decent是成功的，每輪的J應該會逐漸下降，不會上升\n",
    "    for iter in range(1,num_iters):#做num_iters次更新\n",
    "        delta = x.T @ ( ( x @ θ ) - y )   /m \n",
    "        θ = θ - α * delta\n",
    "        #print(CostFunction(θ,x,y))\n",
    "        J[iter][0]=CostFunction(θ,x,y)\n",
    "    return (θ , J)\n"
   ]
  },
  {
   "cell_type": "markdown",
   "metadata": {},
   "source": [
    "### Normal Equation"
   ]
  },
  {
   "cell_type": "code",
   "execution_count": null,
   "metadata": {},
   "outputs": [],
   "source": [
    "from numpy.linalg import inv\n",
    "\n",
    "def NormalEqn(x,y):\n",
    "    return ( inv(x.T @ x) @ x.T @ y )"
   ]
  },
  {
   "cell_type": "markdown",
   "metadata": {},
   "source": [
    "### 畫出收斂圖"
   ]
  },
  {
   "cell_type": "code",
   "execution_count": 4,
   "metadata": {},
   "outputs": [],
   "source": [
    "#橫軸為迭代次數，縱軸為目前的loss function值是多少 \n",
    "#j:目前的loss function值 。iterations:總共做幾次迭代 interval:為了節省畫圖時間，可以多個點畫一次就好\n",
    "\n",
    "def plotJ(j,iterations,interval):\n",
    "    plt.figure(figsize=(10,6))\n",
    "    for iter in range(1,iterations,interval):\n",
    "        plt.plot(iter,j[iter][0],'bo')\n",
    "    plt.grid(True)\n",
    "    plt.title(\"Convergence plot of loss Function\")\n",
    "    plt.xlabel(\"Iteration number\")\n",
    "    plt.ylabel(\"loss function\")"
   ]
  }
 ],
 "metadata": {
  "kernelspec": {
   "display_name": "Python 3",
   "language": "python",
   "name": "python3"
  },
  "language_info": {
   "codemirror_mode": {
    "name": "ipython",
    "version": 3
   },
   "file_extension": ".py",
   "mimetype": "text/x-python",
   "name": "python",
   "nbconvert_exporter": "python",
   "pygments_lexer": "ipython3",
   "version": "3.6.5"
  }
 },
 "nbformat": 4,
 "nbformat_minor": 2
}
