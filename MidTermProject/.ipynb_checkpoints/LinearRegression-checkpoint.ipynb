{
 "cells": [
  {
   "cell_type": "markdown",
   "metadata": {},
   "source": [
    "### 此檔案定義 Linear Regression 相關 function"
   ]
  },
  {
   "cell_type": "code",
   "execution_count": 4,
   "metadata": {},
   "outputs": [],
   "source": [
    "from sklearn.linear_model import LinearRegression\n",
    "from sklearn.model_selection import train_test_split\n",
    "from sklearn.preprocessing import PolynomialFeatures "
   ]
  },
  {
   "cell_type": "code",
   "execution_count": 2,
   "metadata": {},
   "outputs": [],
   "source": [
    "def AddpolynomialFeature(data,degree):\n",
    "    for i in range(2,degree+1):\n",
    "        data['Sex'+str(i)] = data['Sex']**i\n",
    "        data['Length'+str(i)] = data['Length']**i\n",
    "        data['Diameter'+str(i)] = data['Diameter']**i\n",
    "        data['Height'+str(i)] = data['Height']**i\n",
    "        data['Whole weight'+str(i)] = data['Whole weight']**i\n",
    "        data['Shucked weight'+str(i)] = data['Shucked weight']**i\n",
    "        data['Viscera weight'+str(i)] = data['Viscera weight']**i\n",
    "        data['Shell weight'+str(i)] = data['Shell weight']**i"
   ]
  },
  {
   "cell_type": "code",
   "execution_count": null,
   "metadata": {},
   "outputs": [],
   "source": [
    "'''\n",
    "def LinearR_CallFunc_Auto(x_train,x_test,y_train,y_test)\n",
    "    poly = PolynomialFeatures(degree = 3,interaction_only=True) \n",
    "    X_train_poly = poly.fit_transform(x_train) \n",
    "    poly.fit(X_train_poly, y_train) \n",
    "    model = LinearRegression() \n",
    "    model.fit(X_train_poly, y_train) \n",
    "    \n",
    "    X_test_poly = poly.fit_transform(x_test) \n",
    "    Y_pred = model.predict(X_test_poly)\n",
    "    print('Call Library得到的R^2分數: '+str(model.score(X_test_poly,y_test)))\n",
    "'''\n",
    "#這裡是直接呼叫 library 的linear regression\n",
    "def LinearR_CallFunc(x_train,x_test,y_train,y_test): \n",
    "    model = LinearRegression() \n",
    "    model.fit(x_train,y_train)\n",
    "    Y_pred = model.predict(x_test)\n",
    "    print('Call Library得到的R^2分數: '+str(model.score(x_test,y_test)))"
   ]
  },
  {
   "cell_type": "code",
   "execution_count": null,
   "metadata": {},
   "outputs": [],
   "source": [
    "\n",
    "\n",
    "def LinearR_my(x_train,x_test,y_train,y_test): \n",
    "    "
   ]
  }
 ],
 "metadata": {
  "kernelspec": {
   "display_name": "Python 3",
   "language": "python",
   "name": "python3"
  },
  "language_info": {
   "codemirror_mode": {
    "name": "ipython",
    "version": 3
   },
   "file_extension": ".py",
   "mimetype": "text/x-python",
   "name": "python",
   "nbconvert_exporter": "python",
   "pygments_lexer": "ipython3",
   "version": "3.6.5"
  }
 },
 "nbformat": 4,
 "nbformat_minor": 2
}
