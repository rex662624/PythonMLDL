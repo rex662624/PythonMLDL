{
 "cells": [
  {
   "cell_type": "markdown",
   "metadata": {},
   "source": [
    "# Python_ML_DL Midterm Project\n",
    "\n",
    "\n",
    "## 題目: 從頭實作 Linear regression 和 logistic regression 並比較不同方法的正確率\n",
    "\n",
    "\n",
    "\n",
    "### 資料說明([資料來源](https://archive.ics.uci.edu/ml/datasets/Abalone))\n",
    "\n",
    "這個資料是紀錄鮑魚(abalone)的年齡與他們的重量、性別、直徑等等特徵的關係。會選這個資料除了因為data數量蠻多的(4177筆)，而且可以做linear regesssion 分析，也可以做logistic regression分析，符合我的需求。而且看起來也蠻有趣的，就選了這個dataset。\n",
    "\n",
    "### 功能\n",
    "\n",
    "**- Linear regression:**  我實作了3種不同的linear regression\n",
    "\n",
    "1-1: 直接呼叫 sklearn 的 LinearRegression <br>\n",
    "1-2: 自己實作Gradient descent 的 Linear regression，並討論收斂快慢的原因<br>\n",
    "1-3: 基於 Normal Equation 的 Linear regression <br>\n",
    "\n",
    "**- logistic regression**\n",
    "\n",
    "2-1: 自己實作 logistic regression => 因為有4個區間，所以需要套用4次model <br>\n",
    "2-2: 直接呼叫 sklearn 的 LogisticRegression => 呼叫一次函數就可以分類4個區間<br>\n"
   ]
  },
  {
   "cell_type": "code",
   "execution_count": 1,
   "metadata": {},
   "outputs": [],
   "source": [
    "%matplotlib inline\n",
    "import numpy as np\n",
    "import matplotlib.pyplot as plt\n",
    "import pandas as pd\n",
    "import locale\n",
    "from sklearn.linear_model import LinearRegression\n",
    "from sklearn.model_selection import train_test_split\n",
    "from sklearn.preprocessing import PolynomialFeatures\n",
    "from sklearn import linear_model\n",
    "\n",
    "#include自己寫的 function 進來\n",
    "%run ./LinearRegression.ipynb \n",
    "%run ./LogisticRegression.ipynb"
   ]
  },
  {
   "cell_type": "markdown",
   "metadata": {},
   "source": [
    "## 一、 Linear regression\n",
    "相關的 function 定義於 ./LinearRegression.ipynb 中"
   ]
  },
  {
   "cell_type": "markdown",
   "metadata": {},
   "source": [
    "### 首先讀進檔案並做preprocessing"
   ]
  },
  {
   "cell_type": "code",
   "execution_count": 2,
   "metadata": {
    "scrolled": true
   },
   "outputs": [
    {
     "name": "stdout",
     "output_type": "stream",
     "text": [
      "Index(['Sex', 'Length', 'Diameter', 'Height', 'Whole weight', 'Shucked weight',\n",
      "       'Viscera weight', 'Shell weight', 'X0'],\n",
      "      dtype='object')\n"
     ]
    },
    {
     "data": {
      "text/html": [
       "<div>\n",
       "<style scoped>\n",
       "    .dataframe tbody tr th:only-of-type {\n",
       "        vertical-align: middle;\n",
       "    }\n",
       "\n",
       "    .dataframe tbody tr th {\n",
       "        vertical-align: top;\n",
       "    }\n",
       "\n",
       "    .dataframe thead th {\n",
       "        text-align: right;\n",
       "    }\n",
       "</style>\n",
       "<table border=\"1\" class=\"dataframe\">\n",
       "  <thead>\n",
       "    <tr style=\"text-align: right;\">\n",
       "      <th></th>\n",
       "      <th>Sex</th>\n",
       "      <th>Length</th>\n",
       "      <th>Diameter</th>\n",
       "      <th>Height</th>\n",
       "      <th>Whole weight</th>\n",
       "      <th>Shucked weight</th>\n",
       "      <th>Viscera weight</th>\n",
       "      <th>Shell weight</th>\n",
       "      <th>X0</th>\n",
       "    </tr>\n",
       "  </thead>\n",
       "  <tbody>\n",
       "    <tr>\n",
       "      <th>0</th>\n",
       "      <td>1</td>\n",
       "      <td>0.455</td>\n",
       "      <td>0.365</td>\n",
       "      <td>0.095</td>\n",
       "      <td>0.5140</td>\n",
       "      <td>0.2245</td>\n",
       "      <td>0.1010</td>\n",
       "      <td>0.150</td>\n",
       "      <td>1</td>\n",
       "    </tr>\n",
       "    <tr>\n",
       "      <th>1</th>\n",
       "      <td>1</td>\n",
       "      <td>0.350</td>\n",
       "      <td>0.265</td>\n",
       "      <td>0.090</td>\n",
       "      <td>0.2255</td>\n",
       "      <td>0.0995</td>\n",
       "      <td>0.0485</td>\n",
       "      <td>0.070</td>\n",
       "      <td>1</td>\n",
       "    </tr>\n",
       "    <tr>\n",
       "      <th>2</th>\n",
       "      <td>2</td>\n",
       "      <td>0.530</td>\n",
       "      <td>0.420</td>\n",
       "      <td>0.135</td>\n",
       "      <td>0.6770</td>\n",
       "      <td>0.2565</td>\n",
       "      <td>0.1415</td>\n",
       "      <td>0.210</td>\n",
       "      <td>1</td>\n",
       "    </tr>\n",
       "    <tr>\n",
       "      <th>3</th>\n",
       "      <td>1</td>\n",
       "      <td>0.440</td>\n",
       "      <td>0.365</td>\n",
       "      <td>0.125</td>\n",
       "      <td>0.5160</td>\n",
       "      <td>0.2155</td>\n",
       "      <td>0.1140</td>\n",
       "      <td>0.155</td>\n",
       "      <td>1</td>\n",
       "    </tr>\n",
       "    <tr>\n",
       "      <th>4</th>\n",
       "      <td>3</td>\n",
       "      <td>0.330</td>\n",
       "      <td>0.255</td>\n",
       "      <td>0.080</td>\n",
       "      <td>0.2050</td>\n",
       "      <td>0.0895</td>\n",
       "      <td>0.0395</td>\n",
       "      <td>0.055</td>\n",
       "      <td>1</td>\n",
       "    </tr>\n",
       "  </tbody>\n",
       "</table>\n",
       "</div>"
      ],
      "text/plain": [
       "   Sex  Length  Diameter  Height  Whole weight  Shucked weight  \\\n",
       "0    1   0.455     0.365   0.095        0.5140          0.2245   \n",
       "1    1   0.350     0.265   0.090        0.2255          0.0995   \n",
       "2    2   0.530     0.420   0.135        0.6770          0.2565   \n",
       "3    1   0.440     0.365   0.125        0.5160          0.2155   \n",
       "4    3   0.330     0.255   0.080        0.2050          0.0895   \n",
       "\n",
       "   Viscera weight  Shell weight  X0  \n",
       "0          0.1010         0.150   1  \n",
       "1          0.0485         0.070   1  \n",
       "2          0.1415         0.210   1  \n",
       "3          0.1140         0.155   1  \n",
       "4          0.0395         0.055   1  "
      ]
     },
     "execution_count": 2,
     "metadata": {},
     "output_type": "execute_result"
    }
   ],
   "source": [
    "def Replace(x):#把性別換成數字\n",
    "    if x.values=='M':\n",
    "        return 1\n",
    "    elif x.values == 'F':\n",
    "        return 2\n",
    "    elif x.values == 'I':\n",
    "        return 3\n",
    "\n",
    "dataset = pd.read_csv('./abalone.data',header=None)\n",
    "colnames = ['Sex','Length','Diameter','Height','Whole weight','Shucked weight','Viscera weight','Shell weight','Rings']\n",
    "dataset.columns = colnames \n",
    "#dataset.isnull().any() 檢查過沒有null了\n",
    "#dataset.shape =>(4177, 9)\n",
    "#把X 和 Y分離開( feature 和 result)\n",
    "Y= dataset.loc[:,['Rings']] \n",
    "X= dataset.drop(['Rings'],axis=1)\n",
    "X.loc[:,['Sex']] = X.loc[:,['Sex']].apply(Replace, axis=1)#把性別換成數字\n",
    "X['X0']=1 #我們通常會自己加入一行X0= 1，因為為了配合θ0*X0 + θ1*X1 + θ2*X2 中的θ0 ，θ0*1剛好就是θ0，因此要保持θ0是常數項就要讓X0=1。\n",
    "\n",
    "print(X.columns)\n",
    "X.head()"
   ]
  },
  {
   "cell_type": "markdown",
   "metadata": {},
   "source": [
    "### 加入多項式項次\n",
    "\n",
    "因為如此複雜的預測想必不是線性，所以要加入高次方項"
   ]
  },
  {
   "cell_type": "code",
   "execution_count": 3,
   "metadata": {},
   "outputs": [
    {
     "name": "stdout",
     "output_type": "stream",
     "text": [
      "Index(['Sex', 'Length', 'Diameter', 'Height', 'Whole weight', 'Shucked weight',\n",
      "       'Viscera weight', 'Shell weight', 'X0', 'Sex2', 'Length2', 'Diameter2',\n",
      "       'Height2', 'Whole weight2', 'Shucked weight2', 'Viscera weight2',\n",
      "       'Shell weight2', 'Sex3', 'Length3', 'Diameter3', 'Height3',\n",
      "       'Whole weight3', 'Shucked weight3', 'Viscera weight3', 'Shell weight3',\n",
      "       'Sex4', 'Length4', 'Diameter4', 'Height4', 'Whole weight4',\n",
      "       'Shucked weight4', 'Viscera weight4', 'Shell weight4', 'Sex5',\n",
      "       'Length5', 'Diameter5', 'Height5', 'Whole weight5', 'Shucked weight5',\n",
      "       'Viscera weight5', 'Shell weight5', 'Sex6', 'Length6', 'Diameter6',\n",
      "       'Height6', 'Whole weight6', 'Shucked weight6', 'Viscera weight6',\n",
      "       'Shell weight6'],\n",
      "      dtype='object')\n"
     ]
    },
    {
     "data": {
      "text/html": [
       "<div>\n",
       "<style scoped>\n",
       "    .dataframe tbody tr th:only-of-type {\n",
       "        vertical-align: middle;\n",
       "    }\n",
       "\n",
       "    .dataframe tbody tr th {\n",
       "        vertical-align: top;\n",
       "    }\n",
       "\n",
       "    .dataframe thead th {\n",
       "        text-align: right;\n",
       "    }\n",
       "</style>\n",
       "<table border=\"1\" class=\"dataframe\">\n",
       "  <thead>\n",
       "    <tr style=\"text-align: right;\">\n",
       "      <th></th>\n",
       "      <th>Sex</th>\n",
       "      <th>Length</th>\n",
       "      <th>Diameter</th>\n",
       "      <th>Height</th>\n",
       "      <th>Whole weight</th>\n",
       "      <th>Shucked weight</th>\n",
       "      <th>Viscera weight</th>\n",
       "      <th>Shell weight</th>\n",
       "      <th>X0</th>\n",
       "      <th>Sex2</th>\n",
       "      <th>...</th>\n",
       "      <th>Viscera weight5</th>\n",
       "      <th>Shell weight5</th>\n",
       "      <th>Sex6</th>\n",
       "      <th>Length6</th>\n",
       "      <th>Diameter6</th>\n",
       "      <th>Height6</th>\n",
       "      <th>Whole weight6</th>\n",
       "      <th>Shucked weight6</th>\n",
       "      <th>Viscera weight6</th>\n",
       "      <th>Shell weight6</th>\n",
       "    </tr>\n",
       "  </thead>\n",
       "  <tbody>\n",
       "    <tr>\n",
       "      <th>0</th>\n",
       "      <td>1</td>\n",
       "      <td>0.455</td>\n",
       "      <td>0.365</td>\n",
       "      <td>0.095</td>\n",
       "      <td>0.5140</td>\n",
       "      <td>0.2245</td>\n",
       "      <td>0.1010</td>\n",
       "      <td>0.150</td>\n",
       "      <td>1</td>\n",
       "      <td>1</td>\n",
       "      <td>...</td>\n",
       "      <td>1.051010e-05</td>\n",
       "      <td>7.593750e-05</td>\n",
       "      <td>1</td>\n",
       "      <td>0.008873</td>\n",
       "      <td>0.002365</td>\n",
       "      <td>7.350919e-07</td>\n",
       "      <td>0.018441</td>\n",
       "      <td>1.280260e-04</td>\n",
       "      <td>1.061520e-06</td>\n",
       "      <td>1.139062e-05</td>\n",
       "    </tr>\n",
       "    <tr>\n",
       "      <th>1</th>\n",
       "      <td>1</td>\n",
       "      <td>0.350</td>\n",
       "      <td>0.265</td>\n",
       "      <td>0.090</td>\n",
       "      <td>0.2255</td>\n",
       "      <td>0.0995</td>\n",
       "      <td>0.0485</td>\n",
       "      <td>0.070</td>\n",
       "      <td>1</td>\n",
       "      <td>1</td>\n",
       "      <td>...</td>\n",
       "      <td>2.683544e-07</td>\n",
       "      <td>1.680700e-06</td>\n",
       "      <td>1</td>\n",
       "      <td>0.001838</td>\n",
       "      <td>0.000346</td>\n",
       "      <td>5.314410e-07</td>\n",
       "      <td>0.000131</td>\n",
       "      <td>9.703725e-07</td>\n",
       "      <td>1.301519e-08</td>\n",
       "      <td>1.176490e-07</td>\n",
       "    </tr>\n",
       "    <tr>\n",
       "      <th>2</th>\n",
       "      <td>2</td>\n",
       "      <td>0.530</td>\n",
       "      <td>0.420</td>\n",
       "      <td>0.135</td>\n",
       "      <td>0.6770</td>\n",
       "      <td>0.2565</td>\n",
       "      <td>0.1415</td>\n",
       "      <td>0.210</td>\n",
       "      <td>1</td>\n",
       "      <td>4</td>\n",
       "      <td>...</td>\n",
       "      <td>5.672601e-05</td>\n",
       "      <td>4.084101e-04</td>\n",
       "      <td>64</td>\n",
       "      <td>0.022164</td>\n",
       "      <td>0.005489</td>\n",
       "      <td>6.053445e-06</td>\n",
       "      <td>0.096279</td>\n",
       "      <td>2.847897e-04</td>\n",
       "      <td>8.026730e-06</td>\n",
       "      <td>8.576612e-05</td>\n",
       "    </tr>\n",
       "    <tr>\n",
       "      <th>3</th>\n",
       "      <td>1</td>\n",
       "      <td>0.440</td>\n",
       "      <td>0.365</td>\n",
       "      <td>0.125</td>\n",
       "      <td>0.5160</td>\n",
       "      <td>0.2155</td>\n",
       "      <td>0.1140</td>\n",
       "      <td>0.155</td>\n",
       "      <td>1</td>\n",
       "      <td>1</td>\n",
       "      <td>...</td>\n",
       "      <td>1.925415e-05</td>\n",
       "      <td>8.946610e-05</td>\n",
       "      <td>1</td>\n",
       "      <td>0.007256</td>\n",
       "      <td>0.002365</td>\n",
       "      <td>3.814697e-06</td>\n",
       "      <td>0.018875</td>\n",
       "      <td>1.001575e-04</td>\n",
       "      <td>2.194973e-06</td>\n",
       "      <td>1.386725e-05</td>\n",
       "    </tr>\n",
       "    <tr>\n",
       "      <th>4</th>\n",
       "      <td>3</td>\n",
       "      <td>0.330</td>\n",
       "      <td>0.255</td>\n",
       "      <td>0.080</td>\n",
       "      <td>0.2050</td>\n",
       "      <td>0.0895</td>\n",
       "      <td>0.0395</td>\n",
       "      <td>0.055</td>\n",
       "      <td>1</td>\n",
       "      <td>9</td>\n",
       "      <td>...</td>\n",
       "      <td>9.615801e-08</td>\n",
       "      <td>5.032844e-07</td>\n",
       "      <td>729</td>\n",
       "      <td>0.001291</td>\n",
       "      <td>0.000275</td>\n",
       "      <td>2.621440e-07</td>\n",
       "      <td>0.000074</td>\n",
       "      <td>5.139705e-07</td>\n",
       "      <td>3.798241e-09</td>\n",
       "      <td>2.768064e-08</td>\n",
       "    </tr>\n",
       "  </tbody>\n",
       "</table>\n",
       "<p>5 rows × 49 columns</p>\n",
       "</div>"
      ],
      "text/plain": [
       "   Sex  Length  Diameter  Height  Whole weight  Shucked weight  \\\n",
       "0    1   0.455     0.365   0.095        0.5140          0.2245   \n",
       "1    1   0.350     0.265   0.090        0.2255          0.0995   \n",
       "2    2   0.530     0.420   0.135        0.6770          0.2565   \n",
       "3    1   0.440     0.365   0.125        0.5160          0.2155   \n",
       "4    3   0.330     0.255   0.080        0.2050          0.0895   \n",
       "\n",
       "   Viscera weight  Shell weight  X0  Sex2      ...        Viscera weight5  \\\n",
       "0          0.1010         0.150   1     1      ...           1.051010e-05   \n",
       "1          0.0485         0.070   1     1      ...           2.683544e-07   \n",
       "2          0.1415         0.210   1     4      ...           5.672601e-05   \n",
       "3          0.1140         0.155   1     1      ...           1.925415e-05   \n",
       "4          0.0395         0.055   1     9      ...           9.615801e-08   \n",
       "\n",
       "   Shell weight5  Sex6   Length6  Diameter6       Height6  Whole weight6  \\\n",
       "0   7.593750e-05     1  0.008873   0.002365  7.350919e-07       0.018441   \n",
       "1   1.680700e-06     1  0.001838   0.000346  5.314410e-07       0.000131   \n",
       "2   4.084101e-04    64  0.022164   0.005489  6.053445e-06       0.096279   \n",
       "3   8.946610e-05     1  0.007256   0.002365  3.814697e-06       0.018875   \n",
       "4   5.032844e-07   729  0.001291   0.000275  2.621440e-07       0.000074   \n",
       "\n",
       "   Shucked weight6  Viscera weight6  Shell weight6  \n",
       "0     1.280260e-04     1.061520e-06   1.139062e-05  \n",
       "1     9.703725e-07     1.301519e-08   1.176490e-07  \n",
       "2     2.847897e-04     8.026730e-06   8.576612e-05  \n",
       "3     1.001575e-04     2.194973e-06   1.386725e-05  \n",
       "4     5.139705e-07     3.798241e-09   2.768064e-08  \n",
       "\n",
       "[5 rows x 49 columns]"
      ]
     },
     "execution_count": 3,
     "metadata": {},
     "output_type": "execute_result"
    }
   ],
   "source": [
    "AddpolynomialFeature(X,6)#代表要加入1~6次方的所有feature，例如 Sex，就會有新column Sex2 Sex3...Sex6 表示1~6次方\n",
    "x_train,x_test,y_train,y_test =train_test_split(X,Y,test_size = 0.2, random_state = 4) #用80%做training set\n",
    "\n",
    "print(X.columns)\n",
    "X.head()"
   ]
  },
  {
   "cell_type": "markdown",
   "metadata": {},
   "source": [
    "### <p style=\"color:red;\">  1-1 : 直接呼叫 sklearn 的 LinearRegression </p>\n",
    "直接呼叫上課教到的 Library 測試結果 (function 定義於 ./LinearRegression.ipynb 中)"
   ]
  },
  {
   "cell_type": "code",
   "execution_count": 4,
   "metadata": {},
   "outputs": [
    {
     "name": "stdout",
     "output_type": "stream",
     "text": [
      "Call Library得到的R^2分數: 0.535627164320613\n"
     ]
    }
   ],
   "source": [
    "LinearR_CallFunc(x_train,x_test,y_train,y_test)"
   ]
  },
  {
   "cell_type": "markdown",
   "metadata": {},
   "source": [
    "###  <p style=\"color:red;\"> 1-2 : Gradient-Descent linear regression </p>\n",
    "\n",
    "再來將自己實作基於 Gradient descent 的 Linear regression\n",
    "\n",
    "**Cost Function(或稱 Loss function)實作方法:**\n",
    "用 Square error 作為 loss function (用J(θ)表示) 。式子如下，其中$h_θ(x_i)$就是我們針對某組data $x^{(i)}$預測出的值，而$y^{(i)}$是這個data的正確值\n",
    "<br /><br />\n",
    "<font size=3> $J(θ) = \\frac{1}{2m} \\mathop{\\sum_{i=1}^{m}} (h_θ(x^{(i)})-y^{(i)})^2$ </font>\n",
    "\n",
    "\n",
    "**Gradient descent 實作方法:**<br /> \n",
    "<font size=3> $θ_j :=θ_j - α\\frac{\\partial}{\\partial θ_j} J(θ)$，代入上面的loss function J(θ) 後整理得到 $θ_j :=θ_j - \\frac{α}{m}\\mathop{\\sum_{i=1}^{m}} ( h_θ(x^{(i)})-y^{(i)} )x_{j}^{(i)}$</font>\n",
    "\n",
    "意思就是每輪更新我們要求的係數θ，而更新的方法就是利用 partial derivative 的方式，跟著坡度慢慢找到最小值。\n"
   ]
  },
  {
   "cell_type": "code",
   "execution_count": 5,
   "metadata": {},
   "outputs": [
    {
     "name": "stdout",
     "output_type": "stream",
     "text": [
      "一開始的cost: 54.986830290332236\n"
     ]
    }
   ],
   "source": [
    "%run ./LinearRegression.ipynb\n",
    "θ = np.zeros((x_train.shape[1],1))# θ要和X的feature 一樣多，因為是θ0*X0+θ1*X1......由這個式子找出最佳的 θ 組合\n",
    "cost = CostFunction(θ,x_train.values,y_train.values)\n",
    "print('一開始的cost: '+str(cost)) #這裡只是先看看初始的cost"
   ]
  },
  {
   "cell_type": "markdown",
   "metadata": {},
   "source": [
    "**下面用Gradient descent實作可以發現，在學習率 α =0.000103， 迭代3000次仍然會讓cost只從55降到30左右，因此決定學習率是一件很重要的事，太大可能會無法收斂，太小又會發生下圖的現象，收斂十分的慢，而最後的score想必就十分的低，表示預測得很不準**"
   ]
  },
  {
   "cell_type": "code",
   "execution_count": 6,
   "metadata": {},
   "outputs": [
    {
     "name": "stdout",
     "output_type": "stream",
     "text": [
      "最後的cost: 29.21095340169312，發現這個gradient descent有underfitting問題，做得不是很好\n"
     ]
    },
    {
     "data": {
      "image/png": "[encoded data removed]",
      "text/plain": [
       "<Figure size 720x432 with 1 Axes>"
      ]
     },
     "metadata": {},
     "output_type": "display_data"
    }
   ],
   "source": [
    "iterations = 3000\n",
    "θ ,J= GradientDescent(x_train.values,y_train.values,θ,0.0000103,iterations)\n",
    "\n",
    "plotJ(J,iterations,100)\n",
    "\n",
    "#print(θ)\n",
    "print('最後的cost: '+str(J[iterations-1][0])+ '，發現這個gradient descent有underfitting問題，做得不是很好')"
   ]
  },
  {
   "cell_type": "code",
   "execution_count": 7,
   "metadata": {},
   "outputs": [
    {
     "name": "stdout",
     "output_type": "stream",
     "text": [
      "R^2分數: -4.877755932578984\n"
     ]
    }
   ],
   "source": [
    "from sklearn.metrics import r2_score\n",
    "predict = x_test.values @ θ\n",
    "\n",
    "print('R^2分數: '+str(r2_score(y_test.values,predict)))\n"
   ]
  },
  {
   "cell_type": "markdown",
   "metadata": {},
   "source": [
    "**為了解決我們上面收斂太慢的問題，我們可以用 Feature Scaling 的方式，把所有的 feature normalize 成相近的值，收斂就會比較快。 並調大learning rate。下圖就可以注意到我們只用了1500次迭代就使函數收斂(其實200次以後就變動很小了)**"
   ]
  },
  {
   "cell_type": "code",
   "execution_count": 8,
   "metadata": {},
   "outputs": [
    {
     "name": "stdout",
     "output_type": "stream",
     "text": [
      "最終 Gradient Descent 法 R^2分數: 0.5197200526969354\n"
     ]
    },
    {
     "data": {
      "image/png": "[encoded data removed]",
      "text/plain": [
       "<Figure size 720x432 with 1 Axes>"
      ]
     },
     "metadata": {},
     "output_type": "display_data"
    }
   ],
   "source": [
    "#############這裡在做Normalize#########################\n",
    "stored_feature_means, stored_feature_stds = [], []\n",
    "Xnorm = X.copy()\n",
    "Xnorm.shape[1]\n",
    "\n",
    "for icol in range(Xnorm.shape[1]):\n",
    "    stored_feature_means.append(np.mean(Xnorm.iloc[:,icol]))\n",
    "    stored_feature_stds.append(np.std(Xnorm.iloc[:,icol]))\n",
    "    Xnorm.iloc[:,icol] = (Xnorm.iloc[:,icol] - stored_feature_means[-1])/stored_feature_stds[-1]\n",
    "\n",
    "Xnorm.loc[:,'X0']=1\n",
    "######################################################\n",
    "\n",
    "xnorm_train,xnorm_test,ynorm_train,ynorm_test =train_test_split(Xnorm,Y,test_size = 0.2, random_state = 4) #用80%做training set\n",
    "\n",
    "θ = np.zeros((Xnorm.shape[1],1))# θ要和X的feature 一樣多，因為是θ0*X0+θ1*X1......由這個式子找出最佳的 θ 組合\n",
    "###########\n",
    "iterations = 1500\n",
    "θ ,J= GradientDescent(xnorm_train.values,ynorm_train.values,θ,0.07,iterations)\n",
    "plotJ(J,iterations,1)\n",
    "predict2 = xnorm_test.values @ θ\n",
    "print('最終 Gradient Descent 法 R^2分數: '+str(r2_score(y_test.values,predict2)))"
   ]
  },
  {
   "cell_type": "markdown",
   "metadata": {},
   "source": [
    "### <p style=\"color:red;\"> 1-3 : Normal Equation </p>\n",
    "\n",
    "$θ = (X^T X)^{-1} X^T y$\n",
    "\n",
    "這種方法是直接找多項式的通解，用數學一步解出最精準的答案。但缺點就是 feature 一多，將會比gradient descent 計算慢得多，因為矩陣乘法會很慢"
   ]
  },
  {
   "cell_type": "code",
   "execution_count": 9,
   "metadata": {},
   "outputs": [
    {
     "name": "stdout",
     "output_type": "stream",
     "text": [
      "最終 normal equation 法 R^2分數: 0.5178770606850983\n"
     ]
    }
   ],
   "source": [
    "%run ./LinearRegression.ipynb\n",
    "\n",
    "θ_normalEq = np.zeros((Xnorm.shape[1],1))\n",
    "θ_normalEq = NormalEqn(xnorm_train.values,ynorm_train.values)\n",
    "θ_normalEq\n",
    "predict_normalEq = xnorm_test.values @ θ_normalEq\n",
    "r2_score(y_test.values,predict_normalEq)\n",
    "print('最終 normal equation 法 R^2分數: '+str(r2_score(y_test.values,predict_normalEq)))"
   ]
  },
  {
   "cell_type": "markdown",
   "metadata": {},
   "source": [
    "### <p style=\"color:red;\"> Linear regression 結論 </p>\n",
    "\n",
    "我們發現呼叫 1-1 直接呼叫 sklearn 的 LinearRegression 的分數是 **0.535**， 1-2 Gradient Descent 法分數是 **0.519** ，1-3 normal equation 法 分數是 **0.517**。<br />\n",
    "\n",
    "三者其實相差無幾，但 sklearn 的 LinearRegression 高了一點點，因此可能是其中用的一些方法與這裡不同。但1-2和1-3的 Model 其實還可以透過regularization 的方式，以減少可能 overfitting 的可能，讓最後的表現再提升。"
   ]
  },
  {
   "cell_type": "markdown",
   "metadata": {},
   "source": [
    "## 二、 logistic regression\n",
    "相關的 function 定義於 ./LogisticRegression.ipynb 中\n",
    "\n",
    "因為上面的Linear regression 分數只有0.54，其實好像還有進步空間，所以我們用 classification 的 model 試試看會不會表現比較好。\n",
    "這裡要重新 label 數據的 output。我是分成4個區間，0~5、6~10、11~15、16以上。 (因為data大約是0~20)"
   ]
  },
  {
   "cell_type": "markdown",
   "metadata": {},
   "source": [
    "### <p style=\"color:red;\"> 2-1 : 用 optimize.fmin </p>\n",
    "\n",
    "第一種作法是我從頭實作的，其中的觀念如下:\n",
    "\n",
    "logistic regression本來是用來分0和1的(就是classification model)，而其 hypothesis function 的 output 意義為是這個label的機率為何。因此我們如果要判斷是4個中的哪個區間，只要套用 4 個 logistic regression ，就能知道區間1 2 3 4的機率各為何，我們再從其中選出機率最高的，就是我們的答案了。\n",
    "\n",
    "而這裡求出每個 logistic regression 我是直接呼叫 optimize.fmin ，這個函數可以直接找到 optima ，這個部分也可以用gradient descent法來做。\n",
    "optimize.fmin有一個 argument 要填 'maxiter=XXX' 也就是這個函數最多能迭代幾次找到最佳解，若是超過了找不到就先停下來。"
   ]
  },
  {
   "cell_type": "code",
   "execution_count": 10,
   "metadata": {},
   "outputs": [
    {
     "name": "stdout",
     "output_type": "stream",
     "text": [
      "Warning: Maximum number of iterations has been exceeded.\n",
      "Warning: Maximum number of iterations has been exceeded.\n",
      "Warning: Maximum number of iterations has been exceeded.\n",
      "Warning: Maximum number of iterations has been exceeded.\n"
     ]
    }
   ],
   "source": [
    "%run ./LogisticRegression.ipynb #include這個file進來\n",
    "from scipy import optimize\n",
    "def optimizeTheta(mytheta,myX,myy,mylambda=0.):\n",
    "    result = optimize.fmin(CostFunction_Logi, x0=mytheta, args=(myX, myy), maxiter=3000, full_output=True)\n",
    "    return result[0], result[1]\n",
    "\n",
    "\n",
    "X_logi= Xnorm.copy()\n",
    "Y_logi= Y.copy()\n",
    "Y_logi.loc[:,'Rings']= Y_logi.loc[:,'Rings'].apply(classification)#將年齡分成4種 分別為 1 2 3 4\n",
    "\n",
    "θ_1 = np.zeros((X_logi.shape[1],1))\n",
    "θ_2 = np.zeros((X_logi.shape[1],1))\n",
    "θ_3 = np.zeros((X_logi.shape[1],1))\n",
    "θ_4 = np.zeros((X_logi.shape[1],1))\n",
    "\n",
    "Y_1= Y_logi.loc[:,'Rings'].apply(Now_classify,who = 1).to_frame()\n",
    "Y_2= Y_logi.loc[:,'Rings'].apply(Now_classify,who = 2).to_frame()\n",
    "Y_3= Y_logi.loc[:,'Rings'].apply(Now_classify,who = 3).to_frame()\n",
    "Y_4= Y_logi.loc[:,'Rings'].apply(Now_classify,who = 4).to_frame()\n",
    "\n",
    "### TODO:  Y_1 Y_2 Y_3 Y_4都需要做一次(因為classification) 最後需要把所有的放進predict中去看max 是那個index，那個index就是最後結果\n",
    "X_logi_train1,X_logi_test1,Y_logi_train1,Y_logi_test1 = \\\n",
    "train_test_split(X_logi,Y_1,test_size = 0.2, random_state = 2) #用80%做training set\n",
    "\n",
    "X_logi_train2,X_logi_test2,Y_logi_train2,Y_logi_test2 = \\\n",
    "train_test_split(X_logi,Y_2,test_size = 0.2, random_state = 2) #用80%做training set\n",
    "\n",
    "X_logi_train3,X_logi_test3,Y_logi_train3,Y_logi_test3 = \\\n",
    "train_test_split(X_logi,Y_3,test_size = 0.2, random_state = 2) #用80%做training set\n",
    "\n",
    "X_logi_train4,X_logi_test4,Y_logi_train4,Y_logi_test4 = \\\n",
    "train_test_split(X_logi,Y_4,test_size = 0.2, random_state = 2) #用80%做training set\n",
    "\n",
    "\n",
    "\n",
    "#print(Y_logi_test)\n",
    "#CostFunction_Logi(θ,X_logi.values,Y_logi.values)\n",
    "theta1, mincost1 = optimizeTheta(θ_1,X_logi_train1.values,Y_logi_train1.values)\n",
    "theta2, mincost2 = optimizeTheta(θ_2,X_logi_train2.values,Y_logi_train2.values)\n",
    "theta3, mincost3 = optimizeTheta(θ_3,X_logi_train3.values,Y_logi_train3.values)\n",
    "theta4, mincost4 = optimizeTheta(θ_4,X_logi_train4.values,Y_logi_train4.values)\n"
   ]
  },
  {
   "cell_type": "code",
   "execution_count": 11,
   "metadata": {},
   "outputs": [
    {
     "name": "stdout",
     "output_type": "stream",
     "text": [
      "836 個 testing data 中有 316 個 data 預測失誤 正確率 62.20095693779904 %\n"
     ]
    }
   ],
   "source": [
    "#4個區間分別的機率是多少\n",
    "predict1 = Sigmoid(X_logi_test1 @ theta1)\n",
    "predict2 = Sigmoid(X_logi_test2 @ theta2)\n",
    "predict3 = Sigmoid(X_logi_test3 @ theta3)\n",
    "predict4 = Sigmoid(X_logi_test4 @ theta4)\n",
    "\n",
    "'''\n",
    "Test = predict.copy()\n",
    "Test = pd.concat([Y_1,Y_2,Y_3,Y_4], axis=1)\n",
    "#Result.append(predict)\n",
    "'''\n",
    "#predict.index\n",
    "Result = pd.concat([predict1,predict2,predict3,predict4], axis=1)\n",
    "Result\n",
    "#=========================================\n",
    "#這裡的方法就是，我們上面已經求出了4個區間分別的機率，因此這裡只要取max就知道是哪個區間機率最大。(+1是因為index從0開始，而我的區間編號從1)\n",
    "Result.idxmax(axis = 1)+1\n",
    "#=========================================\n",
    "count = 0\n",
    "right = 0\n",
    "for i in Result.index :\n",
    "    #print(Result.loc[i,:].idxmax(axis = 1)+1)\n",
    "    #print(Y_logi.loc[i,'Rings'])\n",
    "    #算正確的有幾個\n",
    "    if((Result.loc[i,:].idxmax(axis = 1)+1)==(Y_logi.loc[i,'Rings'])):\n",
    "        right=right+1\n",
    "\n",
    "\n",
    "\n",
    "print(f\"{Y_logi_test1.size} 個 testing data 中有 {Y_logi_test1.size-right} 個 data 預測失誤 正確率 {100 *right/Y_logi_test1.size} %\")"
   ]
  },
  {
   "cell_type": "markdown",
   "metadata": {},
   "source": [
    "### <p style=\"color:red;\"> 2-2 : 直接呼叫function </p>\n",
    "\n",
    "呼叫 logistic function 就親民多了，可以進到我的 LogisticR_CallFunc 裡面看，只要宣告 model 為 logistic regression 就可以，不用像上面一樣套用4個 logistic regression model。"
   ]
  },
  {
   "cell_type": "code",
   "execution_count": 12,
   "metadata": {},
   "outputs": [
    {
     "name": "stdout",
     "output_type": "stream",
     "text": [
      "836 個 testing data 中有 285 個 data 預測失誤 正確率 65.9090909090909 %\n"
     ]
    }
   ],
   "source": [
    "X_logi_train,X_logi_test,Y_logi_train,Y_logi_test = \\\n",
    "train_test_split(X_logi,Y_logi,test_size = 0.2, random_state = 2) #用80%做training set\n",
    "\n",
    "LogisticR_CallFunc(X_logi_train,X_logi_test,Y_logi_train,Y_logi_test)"
   ]
  },
  {
   "cell_type": "markdown",
   "metadata": {},
   "source": [
    "### <p style=\"color:red;\"> Linear regression 結論 </p>\n",
    "\n",
    "發現自己實作的正確率是**62%**左右，而直接呼叫 library 正確率是**65%**左右。"
   ]
  }
 ],
 "metadata": {
  "kernelspec": {
   "display_name": "Python 3",
   "language": "python",
   "name": "python3"
  },
  "language_info": {
   "codemirror_mode": {
    "name": "ipython",
    "version": 3
   },
   "file_extension": ".py",
   "mimetype": "text/x-python",
   "name": "python",
   "nbconvert_exporter": "python",
   "pygments_lexer": "ipython3",
   "version": "3.6.5"
  }
 },
 "nbformat": 4,
 "nbformat_minor": 2
}
