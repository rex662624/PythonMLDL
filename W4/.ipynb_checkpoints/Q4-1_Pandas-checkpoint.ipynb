{
 "cells": [
  {
   "cell_type": "code",
   "execution_count": 118,
   "metadata": {},
   "outputs": [],
   "source": [
    "%matplotlib inline\n",
    "import numpy as np\n",
    "import matplotlib.pyplot as plt\n",
    "import pandas as pd\n",
    "import locale\n",
    "from ipywidgets import interact\n",
    "start_year = 1997\n",
    "end_year = 2017"
   ]
  },
  {
   "cell_type": "code",
   "execution_count": 119,
   "metadata": {},
   "outputs": [],
   "source": [
    "#先讀進資料\n",
    "ans=[]\n",
    "for i in range(start_year,end_year):\n",
    "    URL ='https://www.basketball-reference.com/players/b/bryanko01/gamelog/'\n",
    "    PerGame = pd.read_html(URL+str(i))\n",
    "    ans.append(PerGame[7]) #把他加進ans這個(7是經由測試後知道我們要的表格在第七行)"
   ]
  },
  {
   "cell_type": "code",
   "execution_count": 153,
   "metadata": {},
   "outputs": [],
   "source": [
    "import locale\n",
    "\n",
    "point=[]\n",
    "for i in range(start_year-start_year,end_year-start_year): #index from 0 to 19\n",
    "    ans[i] = ans[i][(ans[i]['GS']!='Inactive')&(ans[i]['PTS']!='PTS')&(ans[i]['GS']!='Did Not Play')]#清掉沒用的資料 只留下有得分的地方\n",
    "    point.append(ans[i].loc[:,'PTS'].copy())\n",
    "    assert(len(point[i])==len(ans[i]))#到這裡驗證一下有沒有轉換錯"
   ]
  },
  {
   "cell_type": "markdown",
   "metadata": {},
   "source": [
    "- **到上面一步，已經剩下我們有用的資料，下面開始分析**\n",
    "\n",
    "TODO: interact 分析每年最高得分 平均得分 畫出20 30 40長條圖 "
   ]
  },
  {
   "cell_type": "code",
   "execution_count": 154,
   "metadata": {},
   "outputs": [],
   "source": [
    "from ipywidgets import interact\n",
    "\n",
    "#分析>20分，>30分和>40分的場次\n",
    "def PtAnalyze(x):\n",
    "    if x> 20:\n",
    "        return 2\n",
    "    elif x> 30:\n",
    "        return 3\n",
    "    elif x> 40:\n",
    "        return 4    \n",
    "    else:\n",
    "        return 0\n",
    "for i in range(start_year-start_year,end_year-start_year):\n",
    "    point[i]=point[i].apply(locale.atof)\n",
    "    point[i]['Pt_Analyze']=point[i].apply(PtAnalyze)\n"
   ]
  },
  {
   "cell_type": "code",
   "execution_count": null,
   "metadata": {},
   "outputs": [],
   "source": []
  }
 ],
 "metadata": {
  "kernelspec": {
   "display_name": "Python 3",
   "language": "python",
   "name": "python3"
  },
  "language_info": {
   "codemirror_mode": {
    "name": "ipython",
    "version": 3
   },
   "file_extension": ".py",
   "mimetype": "text/x-python",
   "name": "python",
   "nbconvert_exporter": "python",
   "pygments_lexer": "ipython3",
   "version": "3.6.5"
  }
 },
 "nbformat": 4,
 "nbformat_minor": 2
}
