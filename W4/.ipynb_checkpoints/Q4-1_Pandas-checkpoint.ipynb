{
 "cells": [
  {
   "cell_type": "markdown",
   "metadata": {},
   "source": [
    "### 分析 Kobe Bryant 逐年數據\n",
    "\n",
    "- 用interact讓使用者選取年份\n",
    "- 用長條圖顯示每季 kobe bryant 小於20分，20~30分、30~40分及40分以上的場次，並在長條圖上直接顯示數字\n",
    "- 表格顯示當季的最高得分及平均分數\n",
    "- 用subplot 將兩張圖左右顯示"
   ]
  },
  {
   "cell_type": "code",
   "execution_count": 1,
   "metadata": {},
   "outputs": [],
   "source": [
    "%matplotlib inline\n",
    "import numpy as np\n",
    "import matplotlib.pyplot as plt\n",
    "import pandas as pd\n",
    "import locale\n",
    "from ipywidgets import interact\n",
    "start_year = 1997\n",
    "end_year = 2017"
   ]
  },
  {
   "cell_type": "code",
   "execution_count": 2,
   "metadata": {},
   "outputs": [],
   "source": [
    "#先讀進資料\n",
    "ans=[]\n",
    "for i in range(start_year,end_year):\n",
    "    URL ='https://www.basketball-reference.com/players/b/bryanko01/gamelog/'\n",
    "    PerGame = pd.read_html(URL+str(i))\n",
    "    ans.append(PerGame[7]) #把他加進ans這個(7是經由測試後知道我們要的表格在第七行)"
   ]
  },
  {
   "cell_type": "code",
   "execution_count": 3,
   "metadata": {},
   "outputs": [],
   "source": [
    "import locale\n",
    "\n",
    "point=[]\n",
    "for i in range(start_year-start_year,end_year-start_year): #index from 0 to 19\n",
    "    ans[i] = ans[i][(ans[i]['GS']!='Inactive')&(ans[i]['PTS']!='PTS')&(ans[i]['GS']!='Did Not Play')]#清掉沒用的資料 只留下有得分的地方\n",
    "    point.append(ans[i].loc[:,'PTS'].copy())\n",
    "    assert(len(point[i])==len(ans[i]))#到這裡驗證一下有沒有轉換錯"
   ]
  },
  {
   "cell_type": "markdown",
   "metadata": {},
   "source": [
    "- **到上面一步，已經剩下我們有用的資料，下面開始分析**\n",
    "\n",
    "TODO: interact 分析每年最高得分 平均得分"
   ]
  },
  {
   "cell_type": "code",
   "execution_count": 4,
   "metadata": {},
   "outputs": [
    {
     "data": {
      "application/vnd.jupyter.widget-view+json": {
       "model_id": "f2c7c7c8606f4965a87076a1e22cc767",
       "version_major": 2,
       "version_minor": 0
      },
      "text/plain": [
       "interactive(children=(IntSlider(value=9, description='index', max=19), Output()), _dom_classes=('widget-intera…"
      ]
     },
     "metadata": {},
     "output_type": "display_data"
    }
   ],
   "source": [
    "from ipywidgets import interact\n",
    "import seaborn as sns\n",
    "import matplotlib as mpl\n",
    "\n",
    "  \n",
    "mpl.rc('font',family ='Noto Sans CJK TC')\n",
    "#分析>20分，>30分和>40分的場次\n",
    "label_text=['<20分','>20分','>30分','>40分']\n",
    "\n",
    "def PtAnalyze(x):\n",
    "    if x> 40:\n",
    "        return 4\n",
    "    elif x> 30:\n",
    "        return 3\n",
    "    elif x> 20:\n",
    "        return 2    \n",
    "    else:\n",
    "        return 0\n",
    "    \n",
    "def Bar(index):\n",
    "    #等等要畫一個表格和一張圖 所以需要兩個subplot\n",
    "    fig = plt.figure(figsize=(20,9))\n",
    "    ax1 = fig.add_subplot(121)\n",
    "    \n",
    "    #直條圖\n",
    "    #print(point[index]['Pt_Analyze'].value_counts().tolist())\n",
    "    counts =point[index]['Pt_Analyze'].value_counts().tolist()#把場次數據存起來\n",
    "    sns.countplot(point[index]['Pt_Analyze'],ax=ax1);\n",
    "    ax1.set_xlabel('得分表現')\n",
    "    ax1.set_ylabel('場次')\n",
    "    ax1.set_title(str(index+start_year)+'年賽季Kobe bryant得分數據')\n",
    "    ax1.set_xticklabels(label_text, fontsize=14)\n",
    "    #把數字顯示在圖表上\n",
    "    index_local_for = 0\n",
    "    for p, label in zip(ax1.patches, point[index]['Pt_Analyze'].value_counts().index):\n",
    "        ax1.annotate(counts[index_local_for], (p.get_x()+0.375, p.get_height()+0.1))\n",
    "        index_local_for+=1\n",
    "    \n",
    "    #表格\n",
    "    ax2 = fig.add_subplot(122)\n",
    "    ax2.axis('off')\n",
    "    ax2.set_title(str(index+start_year)+'年賽季Kobe bryant得分數據')\n",
    "    col_labels = ['該季最高得分', '該季平均分數']\n",
    "    row_labels = ['得分']\n",
    "    table_vals = [[0,0]]#initilize\n",
    "    # 轉成array後 發現最後一個 element 是很長一串的所有資訊，因此remove。(但應該有更好的方法直接轉成array)\n",
    "    value = np.array(point[index], dtype=pd.Series)\n",
    "    value = value[np.arange(value.size - 1)]\n",
    "    table_vals[0][0] = value.max()\n",
    "    table_vals[0][1] = round(value.mean(),3)\n",
    "    the_table = plt.table(cellText=table_vals,\n",
    "                          colWidths=[0.2,0.2],\n",
    "                          rowLabels=row_labels,\n",
    "                          colLabels=col_labels,\n",
    "                          loc='best')\n",
    "    the_table.auto_set_font_size(False)\n",
    "    the_table.set_fontsize(20)\n",
    "    the_table.scale(2,5)\n",
    "    \n",
    "    \n",
    "    \n",
    " \n",
    "    \n",
    "for i in range(start_year-start_year,end_year-start_year):\n",
    "    point[i]=point[i].apply(locale.atof)\n",
    "    point[i]['Pt_Analyze']=point[i].apply(PtAnalyze)#把數字轉成float\n",
    "\n",
    "interact(Bar, index=(0, 19));"
   ]
  },
  {
   "cell_type": "markdown",
   "metadata": {},
   "source": [
    "### **reference**\n",
    "\n",
    "[subplot使用](https://stackoverflow.com/questions/33925494/seaborn-produces-separate-figures-in-subplots)"
   ]
  }
 ],
 "metadata": {
  "kernelspec": {
   "display_name": "Python 3",
   "language": "python",
   "name": "python3"
  },
  "language_info": {
   "codemirror_mode": {
    "name": "ipython",
    "version": 3
   },
   "file_extension": ".py",
   "mimetype": "text/x-python",
   "name": "python",
   "nbconvert_exporter": "python",
   "pygments_lexer": "ipython3",
   "version": "3.6.5"
  }
 },
 "nbformat": 4,
 "nbformat_minor": 2
}
