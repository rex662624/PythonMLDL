{
 "cells": [
  {
   "cell_type": "code",
   "execution_count": 1,
   "metadata": {},
   "outputs": [],
   "source": [
    "import cv2\n",
    " \n",
    "# Opens the Video file\n",
    "cap= cv2.VideoCapture('.\\1.mp4')\n",
    "i=0\n",
    "while(cap.isOpened()):\n",
    "    ret, frame = cap.read()\n",
    "    if ret == False:\n",
    "        break\n",
    "    cv2.imwrite('kang'+str(i)+'.jpg',frame)\n",
    "    i+=1\n",
    " \n",
    "cap.release()\n",
    "cv2.destroyAllWindows()"
   ]
  },
  {
   "cell_type": "code",
   "execution_count": 2,
   "metadata": {},
   "outputs": [
    {
     "name": "stdout",
     "output_type": "stream",
     "text": [
      ".\\pic_crop\\scene04481.png\n",
      ".\\pic_crop\\scene04491.png\n",
      ".\\pic_crop\\scene04501.png\n",
      ".\\pic_crop\\scene04511.png\n",
      ".\\pic_crop\\scene04521.png\n",
      ".\\pic_crop\\scene04531.png\n",
      ".\\pic_crop\\scene04541.png\n",
      ".\\pic_crop\\scene04551.png\n",
      ".\\pic_crop\\scene04561.png\n",
      ".\\pic_crop\\scene04571.png\n",
      ".\\pic_crop\\scene04581.png\n",
      ".\\pic_crop\\scene04591.png\n",
      ".\\pic_crop\\scene04601.png\n",
      ".\\pic_crop\\scene04611.png\n",
      ".\\pic_crop\\scene04621.png\n",
      ".\\pic_crop\\scene04631.png\n",
      ".\\pic_crop\\scene04641.png\n",
      ".\\pic_crop\\scene04651.png\n",
      ".\\pic_crop\\scene04661.png\n"
     ]
    }
   ],
   "source": [
    "import os\n",
    "\n",
    "path = '.\\pic_crop'\n",
    "\n",
    "files = []\n",
    "# r=root, d=directories, f = files\n",
    "for r, d, f in os.walk(path):\n",
    "    for file in f:\n",
    "        files.append(os.path.join(r, file))\n",
    "        \n",
    "for f in files:\n",
    "    print(f)"
   ]
  },
  {
   "cell_type": "markdown",
   "metadata": {},
   "source": [
    "### 批次切割圖片"
   ]
  },
  {
   "cell_type": "code",
   "execution_count": 4,
   "metadata": {},
   "outputs": [],
   "source": [
    "import cv2\n",
    "count = 0\n",
    "testmode = 0\n",
    "\n",
    "for f in files:\n",
    "    # 讀取圖檔\n",
    "    img = cv2.imread(f)\n",
    "\n",
    "    # 裁切區域的 x 與 y 座標（左上角）\n",
    "    x = 300\n",
    "    y = 0\n",
    "\n",
    "    # 裁切區域的長度與寬度\n",
    "    w = 340\n",
    "    h = 480\n",
    "\n",
    "    # 裁切圖片\n",
    "    crop_img = img[y:y+h, x:x+w]\n",
    "    # 顯示圖片\n",
    "    if(testmode==1):\n",
    "        cv2.imshow(\"cropped\", crop_img)\n",
    "        cv2.waitKey(0)\n",
    "    # 寫入圖檔\n",
    "    else:\n",
    "        cv2.imwrite(path+'\\\\'+str(count)+'.jpg', crop_img)\n",
    "        count = count+1"
   ]
  },
  {
   "cell_type": "markdown",
   "metadata": {},
   "source": [
    "![1](https://imgur.com/gClF4OV)\n",
    "![2](imgur.com/a/jKik1Pb)"
   ]
  },
  {
   "cell_type": "code",
   "execution_count": null,
   "metadata": {},
   "outputs": [],
   "source": []
  }
 ],
 "metadata": {
  "kernelspec": {
   "display_name": "Python 3",
   "language": "python",
   "name": "python3"
  },
  "language_info": {
   "codemirror_mode": {
    "name": "ipython",
    "version": 3
   },
   "file_extension": ".py",
   "mimetype": "text/x-python",
   "name": "python",
   "nbconvert_exporter": "python",
   "pygments_lexer": "ipython3",
   "version": "3.6.5"
  }
 },
 "nbformat": 4,
 "nbformat_minor": 2
}
