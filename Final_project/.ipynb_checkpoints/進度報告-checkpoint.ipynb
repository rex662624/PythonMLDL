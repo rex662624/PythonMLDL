{
 "cells": [
  {
   "cell_type": "markdown",
   "metadata": {},
   "source": [
    "## [NCTS]期末專案進度\n",
    "\n",
    "**成員: 蔡宇軒、張鈺欣、楊雅嵐** <br>\n",
    "**題目: 韓國女團人臉辨識**"
   ]
  },
  {
   "cell_type": "markdown",
   "metadata": {},
   "source": [
    "## 一、介紹\n",
    "\n",
    "近幾年，韓國文化與歌曲逐漸流行，韓國藝人在台知名度也大增。我們常常能看到韓國女團在舞台上勁歌熱舞，他們都有著不可思議美麗的臉龐，令人羨慕不已。然而，我們卻總能在他們的臉龐中發現些微的相似。如今，整形已是公開的秘密，技術也越來越進步，我們也常聽到新人女團常常以神似某些當紅女團的成員作為宣傳的手法。同樣的，隨著科技日新月異，人臉辨識的技術也逐漸發展中。我們希望建好的model不但能辨識出人臉的差異，也能辨別兩人是否有高度的相似度。"
   ]
  },
  {
   "cell_type": "markdown",
   "metadata": {},
   "source": [
    "## 二、實作方法與目前進度\n",
    "\n",
    "**資料收集:**<br> <br>\n",
    "data 已經收集大概每個女星 200 張照片，總共有5個女星。希望最後能達成每個女星500張照片，而透過水平翻轉照片的方式將照片變成1000張(下次上課會問助教這樣是否可行，還是水平翻轉並不代表增加人臉Data)。因此最後希望能有1000\\*5，5000筆以上的Data。\n",
    "\n",
    "而data的收集方法有2:第一種是去搜尋女星的名字，一張張照片下載。第二種方式是去找女星的video，從中取出適合的frame做為data照片。(適合代表不希望有其他人的臉，因為怕偵測到其他人的臉孔。所以取出frame後如果有其他人的臉孔，我們就要自己一張張切割照片取出目標女星的臉。)\n",
    "\n",
    "**model實作:**<br> <br>\n",
    "\n",
    "目前的方法是:先把照片餵進來後，用[face_recognition](https://github.com/ageitgey/face_recognition) library把照片中的臉孔偵測出來，並把五官特徵降維成128-dim vector。我們就利用這代表著臉孔的128-dim vector當作輸入，用CNN model實現分類，目前表現出的結果在training set和testing set表現都是100%，但是這可能是因為data還不夠多的關係，因此希望最後能夠將他apply在影片上試試看人臉辨識效果。\n",
    "\n",
    "因此希望下周能把 data 收集完善，然後再用NN與CNN下去比較哪個model的效果比較好"
   ]
  },
  {
   "cell_type": "markdown",
   "metadata": {},
   "source": [
    "## 三、專案排程\n",
    "\n",
    "因為剩下兩周的時間，所以兩周各處理一種主題\n",
    "\n",
    "- 5/27~6/2 : 完成 data 的收集，與比較 NN CNN 哪種方法比較適合我們的主題。\n",
    "- 6/3~6/7 : 希望可以將人臉辨識應用在影片上面，透過在video 的每個 frame中1.偵測人臉2.透過train好的CNN weight辨識是誰，來達成real time的人臉辨識"
   ]
  }
 ],
 "metadata": {
  "kernelspec": {
   "display_name": "Python 3",
   "language": "python",
   "name": "python3"
  },
  "language_info": {
   "codemirror_mode": {
    "name": "ipython",
    "version": 3
   },
   "file_extension": ".py",
   "mimetype": "text/x-python",
   "name": "python",
   "nbconvert_exporter": "python",
   "pygments_lexer": "ipython3",
   "version": "3.6.5"
  }
 },
 "nbformat": 4,
 "nbformat_minor": 2
}
