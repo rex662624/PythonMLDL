{
 "cells": [
  {
   "cell_type": "code",
   "execution_count": 1,
   "metadata": {},
   "outputs": [],
   "source": [
    "import numpy as np\n",
    "import cv2\n",
    "\n",
    "cap = cv2.VideoCapture('./1.mp4')\n",
    "\n",
    "while(cap.isOpened()):\n",
    "    ret, frame = cap.read()\n",
    "\n",
    "    #gray = cv2.cvtColor(frame, cv2.COLOR_BGR2GRAY)\n",
    "                \n",
    "    cv2.imshow('frame',frame)\n",
    "    if cv2.waitKey(30) & 0xFF == ord('q'):\n",
    "        break\n",
    "\n",
    "cap.release()\n",
    "cv2.destroyAllWindows()"
   ]
  },
  {
   "cell_type": "code",
   "execution_count": 2,
   "metadata": {},
   "outputs": [],
   "source": [
    "import cv2\n",
    "cap = cv2.VideoCapture('./1.mp4')\n",
    "length = int(cap.get(cv2.CAP_PROP_FRAME_COUNT))\n",
    "\n",
    "def onChange(trackbarValue):\n",
    "    cap.set(cv2.CAP_PROP_POS_FRAMES,trackbarValue)\n",
    "    err,img = cap.read()\n",
    "    cv2.imshow(\"mywindow\", img)\n",
    "    pass\n",
    "\n",
    "cv2.namedWindow('mywindow')\n",
    "cv2.createTrackbar( 'start', 'mywindow', 0, length, onChange )\n",
    "cv2.createTrackbar( 'end'  , 'mywindow', 100, length, onChange )\n",
    "\n",
    "onChange(0)\n",
    "cv2.waitKey()\n",
    "\n",
    "start = cv2.getTrackbarPos('start','mywindow')\n",
    "end   = cv2.getTrackbarPos('end','mywindow')\n",
    "if start >= end:\n",
    "    raise Exception(\"start must be less than end\")\n",
    "\n",
    "cap.set(cv2.CAP_PROP_POS_FRAMES,start)\n",
    "while cap.isOpened():\n",
    "    err,img = cap.read()\n",
    "    if cap.get(cv2.CAP_PROP_POS_FRAMES) >= end:\n",
    "        break\n",
    "    cv2.imshow(\"mywindow\", img)\n",
    "    k = cv2.waitKey(10) & 0xff\n",
    "    if k==27:\n",
    "        break"
   ]
  },
  {
   "cell_type": "code",
   "execution_count": null,
   "metadata": {},
   "outputs": [],
   "source": [
    "import cv2\n",
    "cap = cv2.VideoCapture('./1.mp4')\n",
    "\n",
    "while True:\n",
    "\n",
    "    ret, frame = cap.read()\n",
    "    key = cv2.waitKey(30) & 0xff\n",
    "\n",
    "    if not ret:\n",
    "        break\n",
    "\n",
    "    if key == ord('p'):\n",
    "\n",
    "        while True:\n",
    "\n",
    "            key2 = cv2.waitKey(30) or 0xff\n",
    "            cv2.imshow('frame', frame)\n",
    "\n",
    "            if key2 == ord('p'):\n",
    "                break\n",
    "\n",
    "    cv2.imshow('frame',frame)\n",
    "\n",
    "    if key == 27: \n",
    "        break\n",
    "\n",
    "cap.release()\n",
    "cv2.destroyAllWindows()"
   ]
  },
  {
   "cell_type": "code",
   "execution_count": null,
   "metadata": {},
   "outputs": [],
   "source": []
  }
 ],
 "metadata": {
  "kernelspec": {
   "display_name": "Python 3",
   "language": "python",
   "name": "python3"
  },
  "language_info": {
   "codemirror_mode": {
    "name": "ipython",
    "version": 3
   },
   "file_extension": ".py",
   "mimetype": "text/x-python",
   "name": "python",
   "nbconvert_exporter": "python",
   "pygments_lexer": "ipython3",
   "version": "3.6.5"
  }
 },
 "nbformat": 4,
 "nbformat_minor": 2
}
