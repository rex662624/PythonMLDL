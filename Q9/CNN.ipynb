{
 "cells": [
  {
   "cell_type": "code",
   "execution_count": 1,
   "metadata": {},
   "outputs": [
    {
     "name": "stdout",
     "output_type": "stream",
     "text": [
      "env: KERAS_BACKEND=tensorflow\n"
     ]
    },
    {
     "name": "stderr",
     "output_type": "stream",
     "text": [
      "Using TensorFlow backend.\n"
     ]
    }
   ],
   "source": [
    "%env KERAS_BACKEND=tensorflow\n",
    "%matplotlib inline\n",
    "import numpy as np\n",
    "import matplotlib.pyplot as plt\n",
    "from keras.datasets import mnist\n",
    "from keras.utils import np_utils\n",
    "from ipywidgets import interact_manual"
   ]
  },
  {
   "cell_type": "code",
   "execution_count": 2,
   "metadata": {},
   "outputs": [],
   "source": [
    "(x_train, y_train), (x_test, y_test) = mnist.load_data()"
   ]
  },
  {
   "cell_type": "markdown",
   "metadata": {},
   "source": [
    "### 首先重現上課的model"
   ]
  },
  {
   "cell_type": "code",
   "execution_count": 3,
   "metadata": {},
   "outputs": [],
   "source": [
    "#告訴keras圖片的channel\n",
    "x_train = x_train.reshape(60000, 28, 28, 1)\n",
    "x_test = x_test.reshape(10000, 28, 28, 1)\n",
    "\n",
    "y_train = np_utils.to_categorical(y_train, 10)\n",
    "y_test = np_utils.to_categorical(y_test, 10)\n",
    "#normalize\n",
    "x_train = x_train/x_train.max()\n",
    "x_test = x_test/x_test.max()"
   ]
  },
  {
   "cell_type": "code",
   "execution_count": 4,
   "metadata": {},
   "outputs": [],
   "source": [
    "from keras.models import Sequential\n",
    "from keras.layers import Dense, Activation, Flatten\n",
    "from keras.layers import Conv2D, MaxPool2D\n",
    "from keras.optimizers import SGD"
   ]
  },
  {
   "cell_type": "code",
   "execution_count": 21,
   "metadata": {},
   "outputs": [
    {
     "name": "stdout",
     "output_type": "stream",
     "text": [
      "_________________________________________________________________\n",
      "Layer (type)                 Output Shape              Param #   \n",
      "=================================================================\n",
      "conv2d_12 (Conv2D)           (None, 28, 28, 4)         104       \n",
      "_________________________________________________________________\n",
      "activation_18 (Activation)   (None, 28, 28, 4)         0         \n",
      "_________________________________________________________________\n",
      "max_pooling2d_10 (MaxPooling (None, 14, 14, 4)         0         \n",
      "_________________________________________________________________\n",
      "conv2d_13 (Conv2D)           (None, 14, 14, 8)         808       \n",
      "_________________________________________________________________\n",
      "activation_19 (Activation)   (None, 14, 14, 8)         0         \n",
      "_________________________________________________________________\n",
      "max_pooling2d_11 (MaxPooling (None, 7, 7, 8)           0         \n",
      "_________________________________________________________________\n",
      "conv2d_14 (Conv2D)           (None, 7, 7, 16)          3216      \n",
      "_________________________________________________________________\n",
      "activation_20 (Activation)   (None, 7, 7, 16)          0         \n",
      "_________________________________________________________________\n",
      "max_pooling2d_12 (MaxPooling (None, 3, 3, 16)          0         \n",
      "_________________________________________________________________\n",
      "flatten_4 (Flatten)          (None, 144)               0         \n",
      "_________________________________________________________________\n",
      "dense_7 (Dense)              (None, 9)                 1305      \n",
      "_________________________________________________________________\n",
      "activation_21 (Activation)   (None, 9)                 0         \n",
      "_________________________________________________________________\n",
      "dense_8 (Dense)              (None, 10)                100       \n",
      "_________________________________________________________________\n",
      "activation_22 (Activation)   (None, 10)                0         \n",
      "=================================================================\n",
      "Total params: 5,533\n",
      "Trainable params: 5,533\n",
      "Non-trainable params: 0\n",
      "_________________________________________________________________\n"
     ]
    }
   ],
   "source": [
    "model = Sequential()\n",
    "\n",
    "model.add(Conv2D(4, (5, 5), padding='same', input_shape=(28, 28, 1))) #4個filter，都是5*5\n",
    "model.add(Activation('relu'))\n",
    "model.add(MaxPool2D(pool_size=(2, 2)))\n",
    "\n",
    "model.add(Conv2D(8, (5, 5), padding='same'))\n",
    "model.add(Activation('relu'))\n",
    "model.add(MaxPool2D(pool_size=(2, 2)))\n",
    "\n",
    "model.add(Conv2D(16, (5, 5), padding='same'))\n",
    "model.add(Activation('relu'))\n",
    "model.add(MaxPool2D(pool_size=(2, 2)))\n",
    "\n",
    "model.add(Flatten())\n",
    "model.add(Dense(9))#拉平完送進最後一個普通NN\n",
    "model.add(Activation('relu'))\n",
    "\n",
    "model.add(Dense(10))\n",
    "model.add(Activation('softmax'))\n",
    "\n",
    "model.compile(loss='mse', optimizer=SGD(lr=0.07), metrics=['accuracy'])\n",
    "model.summary()"
   ]
  },
  {
   "cell_type": "code",
   "execution_count": 23,
   "metadata": {},
   "outputs": [
    {
     "name": "stdout",
     "output_type": "stream",
     "text": [
      "Train on 60000 samples, validate on 10000 samples\n",
      "Epoch 1/10\n",
      "60000/60000 [==============================] - 30s 508us/step - loss: 0.0895 - acc: 0.1363 - val_loss: 0.0885 - val_acc: 0.1603\n",
      "Epoch 2/10\n",
      "60000/60000 [==============================] - 31s 520us/step - loss: 0.0867 - acc: 0.2386 - val_loss: 0.0833 - val_acc: 0.3769\n",
      "Epoch 3/10\n",
      "60000/60000 [==============================] - 32s 534us/step - loss: 0.0648 - acc: 0.5684 - val_loss: 0.0362 - val_acc: 0.7800\n",
      "Epoch 4/10\n",
      "60000/60000 [==============================] - 31s 522us/step - loss: 0.0283 - acc: 0.8129 - val_loss: 0.0204 - val_acc: 0.8637\n",
      "Epoch 5/10\n",
      "60000/60000 [==============================] - 31s 520us/step - loss: 0.0201 - acc: 0.8652 - val_loss: 0.0162 - val_acc: 0.8914\n",
      "Epoch 6/10\n",
      "60000/60000 [==============================] - 31s 514us/step - loss: 0.0162 - acc: 0.8924 - val_loss: 0.0147 - val_acc: 0.9026\n",
      "Epoch 7/10\n",
      "60000/60000 [==============================] - 32s 528us/step - loss: 0.0137 - acc: 0.9099 - val_loss: 0.0150 - val_acc: 0.8997\n",
      "Epoch 8/10\n",
      "60000/60000 [==============================] - 35s 577us/step - loss: 0.0120 - acc: 0.9208 - val_loss: 0.0111 - val_acc: 0.9254\n",
      "Epoch 9/10\n",
      "60000/60000 [==============================] - 30s 506us/step - loss: 0.0107 - acc: 0.9299 - val_loss: 0.0099 - val_acc: 0.9351\n",
      "Epoch 10/10\n",
      "60000/60000 [==============================] - 29s 481us/step - loss: 0.0098 - acc: 0.9366 - val_loss: 0.0089 - val_acc: 0.9439\n"
     ]
    }
   ],
   "source": [
    "model1_out=model.fit(x_train, y_train, batch_size=100, epochs=10,verbose =1,validation_data = (x_test,y_test))"
   ]
  },
  {
   "cell_type": "markdown",
   "metadata": {},
   "source": [
    "正確率大概是93~94%\n",
    "\n",
    "### 修改CNN結構，並把optimizer和loss function 改為前幾次作業測試不錯的。\n",
    "修改:<br>\n",
    "CNN每層filter增加，並改為3*3 filter。 <br>\n",
    "再多一層CNN層 <br>\n",
    "loss function改為binary_crossentropy <br>"
   ]
  },
  {
   "cell_type": "code",
   "execution_count": 25,
   "metadata": {},
   "outputs": [
    {
     "name": "stdout",
     "output_type": "stream",
     "text": [
      "_________________________________________________________________\n",
      "Layer (type)                 Output Shape              Param #   \n",
      "=================================================================\n",
      "conv2d_19 (Conv2D)           (None, 28, 28, 10)        100       \n",
      "_________________________________________________________________\n",
      "activation_29 (Activation)   (None, 28, 28, 10)        0         \n",
      "_________________________________________________________________\n",
      "max_pooling2d_17 (MaxPooling (None, 14, 14, 10)        0         \n",
      "_________________________________________________________________\n",
      "conv2d_20 (Conv2D)           (None, 14, 14, 15)        1365      \n",
      "_________________________________________________________________\n",
      "activation_30 (Activation)   (None, 14, 14, 15)        0         \n",
      "_________________________________________________________________\n",
      "max_pooling2d_18 (MaxPooling (None, 7, 7, 15)          0         \n",
      "_________________________________________________________________\n",
      "conv2d_21 (Conv2D)           (None, 7, 7, 20)          2720      \n",
      "_________________________________________________________________\n",
      "activation_31 (Activation)   (None, 7, 7, 20)          0         \n",
      "_________________________________________________________________\n",
      "max_pooling2d_19 (MaxPooling (None, 3, 3, 20)          0         \n",
      "_________________________________________________________________\n",
      "conv2d_22 (Conv2D)           (None, 3, 3, 25)          4525      \n",
      "_________________________________________________________________\n",
      "activation_32 (Activation)   (None, 3, 3, 25)          0         \n",
      "_________________________________________________________________\n",
      "max_pooling2d_20 (MaxPooling (None, 1, 1, 25)          0         \n",
      "_________________________________________________________________\n",
      "flatten_6 (Flatten)          (None, 25)                0         \n",
      "_________________________________________________________________\n",
      "dense_11 (Dense)             (None, 100)               2600      \n",
      "_________________________________________________________________\n",
      "activation_33 (Activation)   (None, 100)               0         \n",
      "_________________________________________________________________\n",
      "dense_12 (Dense)             (None, 10)                1010      \n",
      "_________________________________________________________________\n",
      "activation_34 (Activation)   (None, 10)                0         \n",
      "=================================================================\n",
      "Total params: 12,320\n",
      "Trainable params: 12,320\n",
      "Non-trainable params: 0\n",
      "_________________________________________________________________\n"
     ]
    }
   ],
   "source": [
    "model2 = Sequential()\n",
    "\n",
    "model2.add(Conv2D(10, (3, 3), padding='same', input_shape=(28, 28, 1))) \n",
    "model2.add(Activation('relu'))\n",
    "model2.add(MaxPool2D(pool_size=(2, 2)))\n",
    "\n",
    "model2.add(Conv2D(15, (3, 3), padding='same'))\n",
    "model2.add(Activation('relu'))\n",
    "model2.add(MaxPool2D(pool_size=(2, 2)))\n",
    "\n",
    "model2.add(Conv2D(20, (3, 3), padding='same'))\n",
    "model2.add(Activation('relu'))\n",
    "model2.add(MaxPool2D(pool_size=(2, 2)))\n",
    "\n",
    "model2.add(Conv2D(25, (3, 3), padding='same'))\n",
    "model2.add(Activation('relu'))\n",
    "model2.add(MaxPool2D(pool_size=(2, 2)))\n",
    "\n",
    "model2.add(Flatten())\n",
    "model2.add(Dense(100))#這裡把NN層unit數量改多一點\n",
    "model2.add(Activation('relu'))\n",
    "\n",
    "model2.add(Dense(10))\n",
    "model2.add(Activation('softmax'))\n",
    "\n",
    "model2.compile(loss='binary_crossentropy', optimizer=SGD(lr=0.07), metrics=['accuracy'])\n",
    "model2.summary()"
   ]
  },
  {
   "cell_type": "code",
   "execution_count": 26,
   "metadata": {},
   "outputs": [
    {
     "name": "stdout",
     "output_type": "stream",
     "text": [
      "Train on 60000 samples, validate on 10000 samples\n",
      "Epoch 1/10\n",
      "60000/60000 [==============================] - 29s 479us/step - loss: 0.3231 - acc: 0.9000 - val_loss: 0.3182 - val_acc: 0.9000\n",
      "Epoch 2/10\n",
      "60000/60000 [==============================] - 26s 434us/step - loss: 0.2097 - acc: 0.9275 - val_loss: 0.0734 - val_acc: 0.9750\n",
      "Epoch 3/10\n",
      "60000/60000 [==============================] - 26s 429us/step - loss: 0.0526 - acc: 0.9818 - val_loss: 0.0406 - val_acc: 0.9863\n",
      "Epoch 4/10\n",
      "60000/60000 [==============================] - 26s 432us/step - loss: 0.0323 - acc: 0.9890 - val_loss: 0.0244 - val_acc: 0.9916\n",
      "Epoch 5/10\n",
      "60000/60000 [==============================] - 26s 433us/step - loss: 0.0251 - acc: 0.9915 - val_loss: 0.0198 - val_acc: 0.9931\n",
      "Epoch 6/10\n",
      "60000/60000 [==============================] - 26s 439us/step - loss: 0.0215 - acc: 0.9926 - val_loss: 0.0170 - val_acc: 0.9938\n",
      "Epoch 7/10\n",
      "60000/60000 [==============================] - 28s 467us/step - loss: 0.0188 - acc: 0.9936 - val_loss: 0.0160 - val_acc: 0.9944\n",
      "Epoch 8/10\n",
      "60000/60000 [==============================] - 31s 513us/step - loss: 0.0169 - acc: 0.9943 - val_loss: 0.0133 - val_acc: 0.9953\n",
      "Epoch 9/10\n",
      "60000/60000 [==============================] - 26s 442us/step - loss: 0.0154 - acc: 0.9948 - val_loss: 0.0126 - val_acc: 0.9954\n",
      "Epoch 10/10\n",
      "60000/60000 [==============================] - 26s 440us/step - loss: 0.0142 - acc: 0.9951 - val_loss: 0.0127 - val_acc: 0.9957\n"
     ]
    }
   ],
   "source": [
    "model2_out=model2.fit(x_train, y_train, batch_size=80, epochs=10,verbose =1,validation_data = (x_test,y_test))"
   ]
  },
  {
   "cell_type": "markdown",
   "metadata": {},
   "source": [
    "### 進一步修改CNN結構\n",
    "修改: <br>\n",
    "CNN每層filter再增加，並改變每層filter數量。<br>\n",
    "learning rate調高"
   ]
  },
  {
   "cell_type": "code",
   "execution_count": 29,
   "metadata": {},
   "outputs": [
    {
     "name": "stdout",
     "output_type": "stream",
     "text": [
      "_________________________________________________________________\n",
      "Layer (type)                 Output Shape              Param #   \n",
      "=================================================================\n",
      "conv2d_27 (Conv2D)           (None, 28, 28, 16)        160       \n",
      "_________________________________________________________________\n",
      "activation_41 (Activation)   (None, 28, 28, 16)        0         \n",
      "_________________________________________________________________\n",
      "max_pooling2d_25 (MaxPooling (None, 14, 14, 16)        0         \n",
      "_________________________________________________________________\n",
      "conv2d_28 (Conv2D)           (None, 14, 14, 20)        8020      \n",
      "_________________________________________________________________\n",
      "activation_42 (Activation)   (None, 14, 14, 20)        0         \n",
      "_________________________________________________________________\n",
      "max_pooling2d_26 (MaxPooling (None, 7, 7, 20)          0         \n",
      "_________________________________________________________________\n",
      "conv2d_29 (Conv2D)           (None, 7, 7, 25)          12525     \n",
      "_________________________________________________________________\n",
      "activation_43 (Activation)   (None, 7, 7, 25)          0         \n",
      "_________________________________________________________________\n",
      "max_pooling2d_27 (MaxPooling (None, 3, 3, 25)          0         \n",
      "_________________________________________________________________\n",
      "conv2d_30 (Conv2D)           (None, 3, 3, 30)          18780     \n",
      "_________________________________________________________________\n",
      "activation_44 (Activation)   (None, 3, 3, 30)          0         \n",
      "_________________________________________________________________\n",
      "max_pooling2d_28 (MaxPooling (None, 1, 1, 30)          0         \n",
      "_________________________________________________________________\n",
      "flatten_8 (Flatten)          (None, 30)                0         \n",
      "_________________________________________________________________\n",
      "dense_15 (Dense)             (None, 100)               3100      \n",
      "_________________________________________________________________\n",
      "activation_45 (Activation)   (None, 100)               0         \n",
      "_________________________________________________________________\n",
      "dense_16 (Dense)             (None, 10)                1010      \n",
      "_________________________________________________________________\n",
      "activation_46 (Activation)   (None, 10)                0         \n",
      "=================================================================\n",
      "Total params: 43,595\n",
      "Trainable params: 43,595\n",
      "Non-trainable params: 0\n",
      "_________________________________________________________________\n"
     ]
    }
   ],
   "source": [
    "model3 = Sequential()\n",
    "\n",
    "model3.add(Conv2D(16, (3, 3), padding='same', input_shape=(28, 28, 1))) \n",
    "model3.add(Activation('relu'))\n",
    "model3.add(MaxPool2D(pool_size=(2, 2)))\n",
    "\n",
    "model3.add(Conv2D(20, (5, 5), padding='same'))\n",
    "model3.add(Activation('relu'))\n",
    "model3.add(MaxPool2D(pool_size=(2, 2)))\n",
    "\n",
    "model3.add(Conv2D(25, (5, 5), padding='same'))\n",
    "model3.add(Activation('relu'))\n",
    "model3.add(MaxPool2D(pool_size=(2, 2)))\n",
    "\n",
    "model3.add(Conv2D(30, (5, 5), padding='same'))\n",
    "model3.add(Activation('relu'))\n",
    "model3.add(MaxPool2D(pool_size=(2, 2)))\n",
    "\n",
    "model3.add(Flatten())\n",
    "model3.add(Dense(100))#這裡把NN層unit數量改多一點\n",
    "model3.add(Activation('relu'))\n",
    "\n",
    "model3.add(Dense(10))\n",
    "model3.add(Activation('softmax'))\n",
    "\n",
    "model3.compile(loss='binary_crossentropy', optimizer=SGD(lr=0.2), metrics=['accuracy'])\n",
    "model3.summary()"
   ]
  },
  {
   "cell_type": "code",
   "execution_count": 30,
   "metadata": {},
   "outputs": [
    {
     "name": "stdout",
     "output_type": "stream",
     "text": [
      "Train on 60000 samples, validate on 10000 samples\n",
      "Epoch 1/10\n",
      "60000/60000 [==============================] - 62s 1ms/step - loss: 0.1699 - acc: 0.9435 - val_loss: 0.0287 - val_acc: 0.9897\n",
      "Epoch 2/10\n",
      "60000/60000 [==============================] - 60s 1ms/step - loss: 0.0250 - acc: 0.9912 - val_loss: 0.0156 - val_acc: 0.9946\n",
      "Epoch 3/10\n",
      "60000/60000 [==============================] - 65s 1ms/step - loss: 0.0160 - acc: 0.9945 - val_loss: 0.0121 - val_acc: 0.9959\n",
      "Epoch 4/10\n",
      "60000/60000 [==============================] - 60s 998us/step - loss: 0.0123 - acc: 0.9958 - val_loss: 0.0168 - val_acc: 0.9939\n",
      "Epoch 5/10\n",
      "60000/60000 [==============================] - 60s 997us/step - loss: 0.0102 - acc: 0.9966 - val_loss: 0.0114 - val_acc: 0.9961\n",
      "Epoch 6/10\n",
      "60000/60000 [==============================] - 59s 988us/step - loss: 0.0087 - acc: 0.9971 - val_loss: 0.0101 - val_acc: 0.9966\n",
      "Epoch 7/10\n",
      "60000/60000 [==============================] - 61s 1ms/step - loss: 0.0075 - acc: 0.9974 - val_loss: 0.0090 - val_acc: 0.9967\n",
      "Epoch 8/10\n",
      "60000/60000 [==============================] - 61s 1ms/step - loss: 0.0066 - acc: 0.9976 - val_loss: 0.0078 - val_acc: 0.9974\n",
      "Epoch 9/10\n",
      "60000/60000 [==============================] - 61s 1ms/step - loss: 0.0061 - acc: 0.9979 - val_loss: 0.0110 - val_acc: 0.9961\n",
      "Epoch 10/10\n",
      "60000/60000 [==============================] - 60s 1ms/step - loss: 0.0053 - acc: 0.9982 - val_loss: 0.0094 - val_acc: 0.9969\n"
     ]
    }
   ],
   "source": [
    "model3_out=model3.fit(x_train, y_train, batch_size=80, epochs=10,verbose =1,validation_data = (x_test,y_test))"
   ]
  },
  {
   "cell_type": "markdown",
   "metadata": {},
   "source": [
    "這個Model 大概是0.997的正確率"
   ]
  },
  {
   "cell_type": "code",
   "execution_count": 36,
   "metadata": {},
   "outputs": [
    {
     "name": "stdout",
     "output_type": "stream",
     "text": [
      "_________________________________________________________________\n",
      "Layer (type)                 Output Shape              Param #   \n",
      "=================================================================\n",
      "conv2d_117 (Conv2D)          (None, 28, 28, 16)        416       \n",
      "_________________________________________________________________\n",
      "activation_175 (Activation)  (None, 28, 28, 16)        0         \n",
      "_________________________________________________________________\n",
      "max_pooling2d_117 (MaxPoolin (None, 14, 14, 16)        0         \n",
      "_________________________________________________________________\n",
      "conv2d_118 (Conv2D)          (None, 14, 14, 20)        8020      \n",
      "_________________________________________________________________\n",
      "activation_176 (Activation)  (None, 14, 14, 20)        0         \n",
      "_________________________________________________________________\n",
      "max_pooling2d_118 (MaxPoolin (None, 7, 7, 20)          0         \n",
      "_________________________________________________________________\n",
      "conv2d_119 (Conv2D)          (None, 7, 7, 25)          12525     \n",
      "_________________________________________________________________\n",
      "activation_177 (Activation)  (None, 7, 7, 25)          0         \n",
      "_________________________________________________________________\n",
      "max_pooling2d_119 (MaxPoolin (None, 3, 3, 25)          0         \n",
      "_________________________________________________________________\n",
      "conv2d_120 (Conv2D)          (None, 3, 3, 30)          18780     \n",
      "_________________________________________________________________\n",
      "activation_178 (Activation)  (None, 3, 3, 30)          0         \n",
      "_________________________________________________________________\n",
      "max_pooling2d_120 (MaxPoolin (None, 1, 1, 30)          0         \n",
      "_________________________________________________________________\n",
      "flatten_30 (Flatten)         (None, 30)                0         \n",
      "_________________________________________________________________\n",
      "dense_59 (Dense)             (None, 100)               3100      \n",
      "_________________________________________________________________\n",
      "activation_179 (Activation)  (None, 100)               0         \n",
      "_________________________________________________________________\n",
      "dense_60 (Dense)             (None, 10)                1010      \n",
      "_________________________________________________________________\n",
      "activation_180 (Activation)  (None, 10)                0         \n",
      "=================================================================\n",
      "Total params: 43,851\n",
      "Trainable params: 43,851\n",
      "Non-trainable params: 0\n",
      "_________________________________________________________________\n"
     ]
    }
   ],
   "source": [
    "model4 = Sequential()\n",
    "\n",
    "model4.add(Conv2D(16, (7, 7), padding='same', input_shape=(28, 28, 1))) \n",
    "model4.add(Activation('relu'))\n",
    "model4.add(MaxPool2D(pool_size=(2, 2)))\n",
    "\n",
    "model4.add(Conv2D(20, (7, 7), padding='same'))\n",
    "model4.add(Activation('relu'))\n",
    "model4.add(MaxPool2D(pool_size=(2, 2)))\n",
    "\n",
    "model4.add(Conv2D(25, (5, 5), padding='same'))\n",
    "model4.add(Activation('relu'))\n",
    "model4.add(MaxPool2D(pool_size=(2, 2)))\n",
    "\n",
    "model4.add(Conv2D(30, (5, 5), padding='same'))\n",
    "model4.add(Activation('relu'))\n",
    "model4.add(MaxPool2D(pool_size=(2, 2)))\n",
    "\n",
    "model4.add(Flatten())\n",
    "model4.add(Dense(100))\n",
    "model4.add(Activation('relu'))\n",
    "\n",
    "model4.add(Dense(10))\n",
    "model4.add(Activation('softmax'))\n",
    "\n",
    "model4.compile(loss='binary_crossentropy', optimizer=SGD(lr=0.15), metrics=['accuracy'])\n",
    "model4.summary()\n",
    " "
   ]
  },
  {
   "cell_type": "code",
   "execution_count": 38,
   "metadata": {},
   "outputs": [
    {
     "name": "stdout",
     "output_type": "stream",
     "text": [
      "Train on 60000 samples, validate on 10000 samples\n",
      "Epoch 1/20\n",
      "60000/60000 [==============================] - 72s 1ms/step - loss: 0.0327 - acc: 0.9887 - val_loss: 0.0179 - val_acc: 0.9938\n",
      "Epoch 2/20\n",
      "60000/60000 [==============================] - 73s 1ms/step - loss: 0.0186 - acc: 0.9936 - val_loss: 0.0163 - val_acc: 0.9940\n",
      "Epoch 3/20\n",
      "60000/60000 [==============================] - 72s 1ms/step - loss: 0.0141 - acc: 0.9952 - val_loss: 0.0137 - val_acc: 0.9952\n",
      "Epoch 4/20\n",
      "60000/60000 [==============================] - 72s 1ms/step - loss: 0.0117 - acc: 0.9960 - val_loss: 0.0101 - val_acc: 0.9967\n",
      "Epoch 5/20\n",
      "60000/60000 [==============================] - 76s 1ms/step - loss: 0.0102 - acc: 0.9965 - val_loss: 0.0084 - val_acc: 0.9971\n",
      "Epoch 6/20\n",
      "60000/60000 [==============================] - 76s 1ms/step - loss: 0.0087 - acc: 0.9970 - val_loss: 0.0095 - val_acc: 0.9968\n",
      "Epoch 7/20\n",
      "60000/60000 [==============================] - 77s 1ms/step - loss: 0.0078 - acc: 0.9973 - val_loss: 0.0082 - val_acc: 0.9973\n",
      "Epoch 8/20\n",
      "60000/60000 [==============================] - 73s 1ms/step - loss: 0.0070 - acc: 0.9976 - val_loss: 0.0075 - val_acc: 0.9972\n",
      "Epoch 9/20\n",
      "60000/60000 [==============================] - 77s 1ms/step - loss: 0.0063 - acc: 0.9978 - val_loss: 0.0075 - val_acc: 0.9971\n",
      "Epoch 10/20\n",
      "60000/60000 [==============================] - 75s 1ms/step - loss: 0.0058 - acc: 0.9979 - val_loss: 0.0070 - val_acc: 0.9976\n",
      "Epoch 11/20\n",
      "60000/60000 [==============================] - 73s 1ms/step - loss: 0.0053 - acc: 0.9981 - val_loss: 0.0123 - val_acc: 0.9957\n",
      "Epoch 12/20\n",
      "60000/60000 [==============================] - 72s 1ms/step - loss: 0.0049 - acc: 0.9983 - val_loss: 0.0087 - val_acc: 0.9971\n",
      "Epoch 13/20\n",
      "60000/60000 [==============================] - 79s 1ms/step - loss: 0.0045 - acc: 0.9984 - val_loss: 0.0072 - val_acc: 0.9977\n",
      "Epoch 14/20\n",
      "60000/60000 [==============================] - 74s 1ms/step - loss: 0.0043 - acc: 0.9985 - val_loss: 0.0070 - val_acc: 0.9977\n",
      "Epoch 15/20\n",
      "60000/60000 [==============================] - 76s 1ms/step - loss: 0.0037 - acc: 0.9988 - val_loss: 0.0081 - val_acc: 0.9975\n",
      "Epoch 16/20\n",
      "60000/60000 [==============================] - 79s 1ms/step - loss: 0.0034 - acc: 0.9988 - val_loss: 0.0072 - val_acc: 0.9978\n",
      "Epoch 17/20\n",
      "60000/60000 [==============================] - 77s 1ms/step - loss: 0.0030 - acc: 0.9990 - val_loss: 0.0084 - val_acc: 0.9973\n",
      "Epoch 18/20\n",
      "60000/60000 [==============================] - 78s 1ms/step - loss: 0.0030 - acc: 0.9990 - val_loss: 0.0064 - val_acc: 0.9979\n",
      "Epoch 19/20\n",
      "60000/60000 [==============================] - 78s 1ms/step - loss: 0.0029 - acc: 0.9990 - val_loss: 0.1752 - val_acc: 0.9707\n",
      "Epoch 20/20\n",
      "60000/60000 [==============================] - 77s 1ms/step - loss: 0.0028 - acc: 0.9991 - val_loss: 0.0080 - val_acc: 0.9975\n"
     ]
    }
   ],
   "source": [
    "model4_out=model4.fit(x_train, y_train, batch_size=70, epochs=20,verbose =1,validation_data = (x_test,y_test))"
   ]
  },
  {
   "cell_type": "markdown",
   "metadata": {},
   "source": [
    "**最後做出的Model，比起前幾次作業只用NN的確有些許進步了，只用NN我做出最好的是0.9965 on validataion set，這裡大約0.9975 on validataion set。**"
   ]
  },
  {
   "cell_type": "code",
   "execution_count": null,
   "metadata": {},
   "outputs": [],
   "source": []
  }
 ],
 "metadata": {
  "kernelspec": {
   "display_name": "Python 3",
   "language": "python",
   "name": "python3"
  },
  "language_info": {
   "codemirror_mode": {
    "name": "ipython",
    "version": 3
   },
   "file_extension": ".py",
   "mimetype": "text/x-python",
   "name": "python",
   "nbconvert_exporter": "python",
   "pygments_lexer": "ipython3",
   "version": "3.6.5"
  }
 },
 "nbformat": 4,
 "nbformat_minor": 2
}
