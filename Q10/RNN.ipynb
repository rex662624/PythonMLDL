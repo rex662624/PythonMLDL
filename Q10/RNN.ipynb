{
 "cells": [
  {
   "cell_type": "code",
   "execution_count": 1,
   "metadata": {},
   "outputs": [
    {
     "name": "stdout",
     "output_type": "stream",
     "text": [
      "env: KERAS_BACKEND=tensorflow\n"
     ]
    },
    {
     "name": "stderr",
     "output_type": "stream",
     "text": [
      "Using TensorFlow backend.\n"
     ]
    }
   ],
   "source": [
    "%env KERAS_BACKEND=tensorflow\n",
    "%matplotlib inline\n",
    "import numpy as np\n",
    "import matplotlib.pyplot as plt\n",
    "from keras.datasets import imdb"
   ]
  },
  {
   "cell_type": "code",
   "execution_count": 2,
   "metadata": {},
   "outputs": [],
   "source": [
    "(x_train, y_train), (x_test, y_test) = imdb.load_data(num_words = 10000)"
   ]
  },
  {
   "cell_type": "code",
   "execution_count": 3,
   "metadata": {},
   "outputs": [],
   "source": [
    "from keras.preprocessing import sequence"
   ]
  },
  {
   "cell_type": "code",
   "execution_count": 4,
   "metadata": {},
   "outputs": [],
   "source": [
    "x_train1 = sequence.pad_sequences(x_train,maxlen=150)\n",
    "x_test1 = sequence.pad_sequences(x_test,maxlen=150) "
   ]
  },
  {
   "cell_type": "markdown",
   "metadata": {},
   "source": [
    "### 重現上課的模型"
   ]
  },
  {
   "cell_type": "code",
   "execution_count": 5,
   "metadata": {},
   "outputs": [],
   "source": [
    "from keras.models import Sequential\n",
    "from keras.layers import Dense , Embedding\n",
    "from keras.layers import LSTM"
   ]
  },
  {
   "cell_type": "code",
   "execution_count": 7,
   "metadata": {},
   "outputs": [
    {
     "name": "stdout",
     "output_type": "stream",
     "text": [
      "Train on 25000 samples, validate on 25000 samples\n",
      "Epoch 1/5\n",
      "25000/25000 [==============================] - 38s 2ms/step - loss: 0.5123 - acc: 0.7454 - val_loss: 0.3726 - val_acc: 0.8422\n",
      "Epoch 2/5\n",
      "25000/25000 [==============================] - 38s 2ms/step - loss: 0.2979 - acc: 0.8854 - val_loss: 0.3509 - val_acc: 0.8472\n",
      "Epoch 3/5\n",
      "25000/25000 [==============================] - 38s 2ms/step - loss: 0.2289 - acc: 0.9174 - val_loss: 0.3470 - val_acc: 0.8581\n",
      "Epoch 4/5\n",
      "25000/25000 [==============================] - 38s 2ms/step - loss: 0.1900 - acc: 0.9341 - val_loss: 0.3584 - val_acc: 0.8566\n",
      "Epoch 5/5\n",
      "25000/25000 [==============================] - 38s 2ms/step - loss: 0.1640 - acc: 0.9455 - val_loss: 0.3975 - val_acc: 0.8460\n"
     ]
    },
    {
     "data": {
      "text/plain": [
       "<keras.callbacks.History at 0x1bf1126d4a8>"
      ]
     },
     "execution_count": 7,
     "metadata": {},
     "output_type": "execute_result"
    }
   ],
   "source": [
    "N = 3 #文字壓縮到幾維\n",
    "K = 4 #LSTM層幾個神經元\n",
    "model = Sequential()\n",
    "model.add(Embedding(10000,N))\n",
    "model.add(LSTM(K))\n",
    "model.add(Dense(1,activation='sigmoid'))\n",
    "model.compile(loss='binary_crossentropy', optimizer='adam', metrics=['accuracy'])\n",
    "model.fit(x_train1,y_train,batch_size =32,epochs = 5,validation_data = (x_test1, y_test))"
   ]
  },
  {
   "cell_type": "markdown",
   "metadata": {},
   "source": [
    "### 開始建立自己的model"
   ]
  },
  {
   "cell_type": "code",
   "execution_count": 9,
   "metadata": {},
   "outputs": [],
   "source": [
    "N = 5 #文字壓縮到幾維\n",
    "K = 8 #LSTM層幾個神經元\n",
    "model1 = Sequential()\n",
    "model1.add(Embedding(10000,N))\n",
    "model1.add(LSTM(K))\n",
    "model1.add(Dense(1,activation='sigmoid'))\n",
    "model1.compile(loss='binary_crossentropy', optimizer='adam', metrics=['accuracy'])"
   ]
  },
  {
   "cell_type": "code",
   "execution_count": 10,
   "metadata": {},
   "outputs": [
    {
     "name": "stdout",
     "output_type": "stream",
     "text": [
      "_________________________________________________________________\n",
      "Layer (type)                 Output Shape              Param #   \n",
      "=================================================================\n",
      "embedding_4 (Embedding)      (None, None, 5)           50000     \n",
      "_________________________________________________________________\n",
      "lstm_4 (LSTM)                (None, 8)                 448       \n",
      "_________________________________________________________________\n",
      "dense_4 (Dense)              (None, 1)                 9         \n",
      "=================================================================\n",
      "Total params: 50,457\n",
      "Trainable params: 50,457\n",
      "Non-trainable params: 0\n",
      "_________________________________________________________________\n"
     ]
    }
   ],
   "source": [
    "model1.summary()"
   ]
  },
  {
   "cell_type": "markdown",
   "metadata": {},
   "source": [
    "**確定一下真的懂LSTM:** <br> LSTM 層總共有448個 parameter，在文字5維，LSTM有8個cell的情況。這是因為 <br>\n",
    "((**5**(維文字)+**8**(個cell會feedback))(input/neuron)\\***4**(neuron/cell)+4(bias))\\***8**(個LSTM cell)， $(13*4+4)*8 = 448$\n",
    "\n",
    "![](https://i.imgur.com/qc3548R.png)\n"
   ]
  },
  {
   "cell_type": "code",
   "execution_count": 11,
   "metadata": {},
   "outputs": [
    {
     "name": "stdout",
     "output_type": "stream",
     "text": [
      "Train on 25000 samples, validate on 25000 samples\n",
      "Epoch 1/5\n",
      "25000/25000 [==============================] - 41s 2ms/step - loss: 0.4936 - acc: 0.7663 - val_loss: 0.3697 - val_acc: 0.8489\n",
      "Epoch 2/5\n",
      "25000/25000 [==============================] - 39s 2ms/step - loss: 0.2947 - acc: 0.8848 - val_loss: 0.3242 - val_acc: 0.8639\n",
      "Epoch 3/5\n",
      "25000/25000 [==============================] - 41s 2ms/step - loss: 0.2313 - acc: 0.9142 - val_loss: 0.3490 - val_acc: 0.8592\n",
      "Epoch 4/5\n",
      "25000/25000 [==============================] - 39s 2ms/step - loss: 0.1907 - acc: 0.9328 - val_loss: 0.3737 - val_acc: 0.8497\n",
      "Epoch 5/5\n",
      "25000/25000 [==============================] - 39s 2ms/step - loss: 0.1628 - acc: 0.9460 - val_loss: 0.4013 - val_acc: 0.8516\n"
     ]
    },
    {
     "data": {
      "text/plain": [
       "<keras.callbacks.History at 0x1bf172d64e0>"
      ]
     },
     "execution_count": 11,
     "metadata": {},
     "output_type": "execute_result"
    }
   ],
   "source": [
    "model1.fit(x_train1,y_train,batch_size =32,epochs = 5,validation_data = (x_test1, y_test))"
   ]
  },
  {
   "cell_type": "markdown",
   "metadata": {},
   "source": [
    "###  以上發現雖然高於上課的model，但是說不定只是數據誤差，因為只多了不到1%，因此著手進行下一步改進"
   ]
  },
  {
   "cell_type": "code",
   "execution_count": 24,
   "metadata": {},
   "outputs": [
    {
     "name": "stdout",
     "output_type": "stream",
     "text": [
      "Train on 25000 samples, validate on 25000 samples\n",
      "Epoch 1/5\n",
      "25000/25000 [==============================] - 74s 3ms/step - loss: 0.4173 - acc: 0.8060 - val_loss: 0.3286 - val_acc: 0.8694\n",
      "Epoch 2/5\n",
      "25000/25000 [==============================] - 77s 3ms/step - loss: 0.2482 - acc: 0.9019 - val_loss: 0.3408 - val_acc: 0.8616\n",
      "Epoch 3/5\n",
      "25000/25000 [==============================] - 77s 3ms/step - loss: 0.1763 - acc: 0.9349 - val_loss: 0.3343 - val_acc: 0.8629\n",
      "Epoch 4/5\n",
      "25000/25000 [==============================] - 76s 3ms/step - loss: 0.1366 - acc: 0.9504 - val_loss: 0.3853 - val_acc: 0.8349\n",
      "Epoch 5/5\n",
      "25000/25000 [==============================] - 82s 3ms/step - loss: 0.0987 - acc: 0.9656 - val_loss: 0.4661 - val_acc: 0.8634\n"
     ]
    },
    {
     "data": {
      "text/plain": [
       "<keras.callbacks.History at 0x1bf5353a550>"
      ]
     },
     "execution_count": 24,
     "metadata": {},
     "output_type": "execute_result"
    }
   ],
   "source": [
    "# 1. 文章看多一點說不定更能夠知道文章在講甚麼\n",
    "x_train2 = sequence.pad_sequences(x_train,maxlen=200)\n",
    "x_test2 = sequence.pad_sequences(x_test,maxlen=200)\n",
    "N = 50 #文字壓縮到幾維\n",
    "K = 50 #LSTM層幾個神經元\n",
    "\n",
    "#2.調整RNN內參數\n",
    "model2 = Sequential()\n",
    "model2.add(Embedding(10000,N))\n",
    "model2.add(LSTM(K))\n",
    "model2.add(Dense(1,activation='sigmoid'))\n",
    "model2.compile(loss='binary_crossentropy', optimizer='adam', metrics=['accuracy'])\n",
    "model2.fit(x_train2,y_train,batch_size =30,epochs = 5,validation_data = (x_test2, y_test))"
   ]
  },
  {
   "cell_type": "markdown",
   "metadata": {},
   "source": [
    "### 雖然這次的確有提升個2%左右，但我覺得仍有進步空間，但是LSTM能調整的參數也差不多調整過了，因此想加入CNN來看看，想法是先壓縮到一個蠻大的維度(1000)，然後用CNN萃取特徵，就好像把話的特徵取出來，然後再真的加入LSTM。\n",
    "考慮到剛才RNN改變參數，也好像沒有很大的幫助，這裡就先回到比較少的LSTM cell以免train太久"
   ]
  },
  {
   "cell_type": "code",
   "execution_count": 31,
   "metadata": {},
   "outputs": [
    {
     "name": "stdout",
     "output_type": "stream",
     "text": [
      "Train on 25000 samples, validate on 25000 samples\n",
      "Epoch 1/5\n",
      "25000/25000 [==============================] - 295s 12ms/step - loss: 0.3672 - acc: 0.8371 - val_loss: 0.3499 - val_acc: 0.8434\n",
      "Epoch 2/5\n",
      "25000/25000 [==============================] - 316s 13ms/step - loss: 0.1857 - acc: 0.9314 - val_loss: 0.3092 - val_acc: 0.8713\n",
      "Epoch 3/5\n",
      "25000/25000 [==============================] - 308s 12ms/step - loss: 0.0909 - acc: 0.9709 - val_loss: 0.3931 - val_acc: 0.8668\n",
      "Epoch 4/5\n",
      "25000/25000 [==============================] - 287s 11ms/step - loss: 0.0512 - acc: 0.9848 - val_loss: 0.4992 - val_acc: 0.8606\n",
      "Epoch 5/5\n",
      "25000/25000 [==============================] - 286s 11ms/step - loss: 0.0372 - acc: 0.9890 - val_loss: 0.4625 - val_acc: 0.8558\n"
     ]
    },
    {
     "data": {
      "text/plain": [
       "<keras.callbacks.History at 0x1bf44257518>"
      ]
     },
     "execution_count": 31,
     "metadata": {},
     "output_type": "execute_result"
    }
   ],
   "source": [
    "from keras.layers import Conv1D, MaxPool1D #上次圖片是二維才需要2D\n",
    "# 1. 文章看多一點說不定更能夠知道文章在講甚麼\n",
    "x_train3 = sequence.pad_sequences(x_train,maxlen=150)\n",
    "x_test3 = sequence.pad_sequences(x_test,maxlen=150)\n",
    "\n",
    "N = 1000 #文字壓縮到幾維\n",
    "K = 10 #LSTM層幾個神經元\n",
    "\n",
    "model3 = Sequential()\n",
    "model3.add(Embedding(10000,N))\n",
    "model3.add(Conv1D(16,7,padding='same',activation='relu'))#16個NN neuron，長度7的filter(因為是一維)\n",
    "model3.add(MaxPool1D(pool_size=4))\n",
    "model3.add(LSTM(K))\n",
    "model3.add(Dense(1,activation='sigmoid'))\n",
    "model3.compile(loss='binary_crossentropy', optimizer='adam', metrics=['accuracy'])\n",
    "model3.fit(x_train3,y_train,batch_size =30,epochs = 5,validation_data = (x_test3, y_test))"
   ]
  },
  {
   "cell_type": "markdown",
   "metadata": {},
   "source": [
    "### 感覺有點 overfitting 問題，因為training set都提升到0.99了，validation set還是未見提升 因此加入drop out"
   ]
  },
  {
   "cell_type": "code",
   "execution_count": 42,
   "metadata": {},
   "outputs": [
    {
     "name": "stdout",
     "output_type": "stream",
     "text": [
      "Train on 25000 samples, validate on 25000 samples\n",
      "Epoch 1/5\n",
      "25000/25000 [==============================] - 428s 17ms/step - loss: 0.3722 - acc: 0.8356 - val_loss: 0.2826 - val_acc: 0.8838\n",
      "Epoch 2/5\n",
      "25000/25000 [==============================] - 439s 18ms/step - loss: 0.1979 - acc: 0.9247 - val_loss: 0.2869 - val_acc: 0.8820\n"
     ]
    },
    {
     "data": {
      "text/plain": [
       "<keras.callbacks.History at 0x222043c3dd8>"
      ]
     },
     "execution_count": 42,
     "metadata": {},
     "output_type": "execute_result"
    }
   ],
   "source": [
    "from keras.layers import Conv1D, MaxPool1D\n",
    "from keras.layers import Dropout\n",
    "import keras.callbacks\n",
    "# 1. 文章看多一點說不定更能夠知道文章在講甚麼\n",
    "x_train4 = sequence.pad_sequences(x_train,maxlen=200)\n",
    "x_test4 = sequence.pad_sequences(x_test,maxlen=200)\n",
    "\n",
    "N = 1000 #文字壓縮到幾維\n",
    "K = 10 #LSTM層幾個神經元\n",
    "\n",
    "model4 = Sequential()\n",
    "model4.add(Embedding(10000,N))\n",
    "model4.add(Dropout(0.5))\n",
    "model4.add(Conv1D(16,7,padding='same',activation='relu'))\n",
    "model4.add(MaxPool1D(pool_size=4))\n",
    "model4.add(LSTM(K))\n",
    "model4.add(Dense(1,activation='sigmoid'))\n",
    "model4.compile(loss='binary_crossentropy', optimizer='adam', metrics=['accuracy'])\n",
    "EarlyStop = keras.callbacks.EarlyStopping(monitor='val_loss',patience=0,verbose=0,mode='auto')\n",
    "model4.fit(x_train4,y_train,batch_size =30,epochs = 5,validation_data = (x_test4, y_test),callbacks=[EarlyStop])\n",
    "#經由多次測試發現，有時候在跑epochs時，validation set的正確率會下降，所以決定用early stop，讓他決定甚麼時候要結束epoch"
   ]
  },
  {
   "cell_type": "markdown",
   "metadata": {},
   "source": [
    "**可以看到整體上來說，在 validation data 上的表現確實有提升，大約是88.2% 左右，trainin data 的accuracy其實可以再上升到99%左右(其實在上一個model就已經達成)，只是因為實驗多次之後發現epoch一多，validation data accuracy會下降，所以決定用early stop**"
   ]
  }
 ],
 "metadata": {
  "kernelspec": {
   "display_name": "Python 3",
   "language": "python",
   "name": "python3"
  },
  "language_info": {
   "codemirror_mode": {
    "name": "ipython",
    "version": 3
   },
   "file_extension": ".py",
   "mimetype": "text/x-python",
   "name": "python",
   "nbconvert_exporter": "python",
   "pygments_lexer": "ipython3",
   "version": "3.6.5"
  }
 },
 "nbformat": 4,
 "nbformat_minor": 2
}
