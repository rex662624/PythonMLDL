{
 "cells": [
  {
   "cell_type": "code",
   "execution_count": 18,
   "metadata": {},
   "outputs": [
    {
     "name": "stdout",
     "output_type": "stream",
     "text": [
      "env: KERAS_BACKEND=tensorflow\n"
     ]
    }
   ],
   "source": [
    "%env KERAS_BACKEND=tensorflow\n",
    "\n",
    "%matplotlib inline\n",
    "import numpy as np\n",
    "import matplotlib.pyplot as plt\n",
    "from keras.datasets import mnist\n",
    "from ipywidgets import interact_manual\n",
    "from keras.utils import np_utils\n",
    "from keras.optimizers import Adadelta"
   ]
  },
  {
   "cell_type": "code",
   "execution_count": 19,
   "metadata": {},
   "outputs": [],
   "source": [
    "(x_train, y_train), (x_test, y_test) = mnist.load_data()\n",
    "\n",
    "#整理input\n",
    "x_train = x_train.reshape(60000, 784)\n",
    "x_test = x_test.reshape(10000, 784)\n",
    "#整理output 成 1-hot enconding\n",
    "y_train = np_utils.to_categorical(y_train, 10)\n",
    "y_test = np_utils.to_categorical(y_test, 10)\n",
    "#normalize\n",
    "x_train = (x_train - x_train.min())/(x_train.max() - x_train.min())\n",
    "x_test = (x_test - x_test.min())/(x_test.max() - x_test.min())"
   ]
  },
  {
   "cell_type": "code",
   "execution_count": 20,
   "metadata": {},
   "outputs": [],
   "source": [
    "from keras.models import Model\n",
    "from keras.layers import Input\n",
    "from keras.layers import Dense, Activation\n",
    "from keras.layers import concatenate, add"
   ]
  },
  {
   "attachments": {},
   "cell_type": "markdown",
   "metadata": {},
   "source": [
    "### 沿用上次題目，還有上次 model 決定出來的 optimizer、activation function、loss function\n",
    "神經網路圖如下\n",
    "![](https://i.imgur.com/UqyZh0v.png =10x10)\n"
   ]
  },
  {
   "cell_type": "code",
   "execution_count": 21,
   "metadata": {},
   "outputs": [],
   "source": [
    "g11=Dense(150, activation='relu')\n",
    "g12=Dense(150, activation='relu')\n",
    "\n",
    "g21=Dense(50, activation='relu')\n",
    "g22=Dense(50, activation='relu')\n",
    "g23=Dense(80, activation='relu')\n",
    "\n",
    "g31=Dense(50, activation='relu')\n",
    "\n",
    "g41=Dense(10, activation='softmax')"
   ]
  },
  {
   "cell_type": "code",
   "execution_count": 22,
   "metadata": {},
   "outputs": [],
   "source": [
    "x = Input(shape=(784,))\n",
    "\n",
    "a11=g11(x)\n",
    "a12=g12(x)\n",
    "\n",
    "a21=g21(a11)\n",
    "a22=g22(a11)\n",
    "a23=g23(a12)\n",
    "\n",
    "g31_in=concatenate([a21,a22,a23])\n",
    "a31=g31(g31_in)\n",
    "\n",
    "y=g41(a31)"
   ]
  },
  {
   "cell_type": "code",
   "execution_count": 23,
   "metadata": {},
   "outputs": [
    {
     "name": "stdout",
     "output_type": "stream",
     "text": [
      "__________________________________________________________________________________________________\n",
      "Layer (type)                    Output Shape         Param #     Connected to                     \n",
      "==================================================================================================\n",
      "input_4 (InputLayer)            (None, 784)          0                                            \n",
      "__________________________________________________________________________________________________\n",
      "dense_22 (Dense)                (None, 150)          117750      input_4[0][0]                    \n",
      "__________________________________________________________________________________________________\n",
      "dense_23 (Dense)                (None, 150)          117750      input_4[0][0]                    \n",
      "__________________________________________________________________________________________________\n",
      "dense_24 (Dense)                (None, 50)           7550        dense_22[0][0]                   \n",
      "__________________________________________________________________________________________________\n",
      "dense_25 (Dense)                (None, 50)           7550        dense_22[0][0]                   \n",
      "__________________________________________________________________________________________________\n",
      "dense_26 (Dense)                (None, 80)           12080       dense_23[0][0]                   \n",
      "__________________________________________________________________________________________________\n",
      "concatenate_3 (Concatenate)     (None, 180)          0           dense_24[0][0]                   \n",
      "                                                                 dense_25[0][0]                   \n",
      "                                                                 dense_26[0][0]                   \n",
      "__________________________________________________________________________________________________\n",
      "dense_27 (Dense)                (None, 50)           9050        concatenate_3[0][0]              \n",
      "__________________________________________________________________________________________________\n",
      "dense_28 (Dense)                (None, 10)           510         dense_27[0][0]                   \n",
      "==================================================================================================\n",
      "Total params: 272,240\n",
      "Trainable params: 272,240\n",
      "Non-trainable params: 0\n",
      "__________________________________________________________________________________________________\n"
     ]
    }
   ],
   "source": [
    "model = Model(x, y)\n",
    "model.compile(loss='binary_crossentropy', optimizer=Adadelta(lr=0.5), metrics=['accuracy'])\n",
    "model.summary()"
   ]
  },
  {
   "cell_type": "code",
   "execution_count": 24,
   "metadata": {},
   "outputs": [
    {
     "name": "stdout",
     "output_type": "stream",
     "text": [
      "WARNING:tensorflow:From D:\\Anaconda3\\lib\\site-packages\\tensorflow\\python\\ops\\math_ops.py:3066: to_int32 (from tensorflow.python.ops.math_ops) is deprecated and will be removed in a future version.\n",
      "Instructions for updating:\n",
      "Use tf.cast instead.\n",
      "Train on 60000 samples, validate on 10000 samples\n",
      "Epoch 1/40\n",
      "60000/60000 [==============================] - 7s 116us/step - loss: 0.0684 - acc: 0.9767 - val_loss: 0.0394 - val_acc: 0.9868\n",
      "Epoch 2/40\n",
      "60000/60000 [==============================] - 5s 85us/step - loss: 0.0317 - acc: 0.9896 - val_loss: 0.0276 - val_acc: 0.9908\n",
      "Epoch 3/40\n",
      "60000/60000 [==============================] - 5s 80us/step - loss: 0.0238 - acc: 0.9924 - val_loss: 0.0208 - val_acc: 0.9933\n",
      "Epoch 4/40\n",
      "60000/60000 [==============================] - 5s 76us/step - loss: 0.0190 - acc: 0.9939 - val_loss: 0.0179 - val_acc: 0.9940\n",
      "Epoch 5/40\n",
      "60000/60000 [==============================] - 5s 80us/step - loss: 0.0157 - acc: 0.9949 - val_loss: 0.0196 - val_acc: 0.9935\n",
      "Epoch 6/40\n",
      "60000/60000 [==============================] - 5s 79us/step - loss: 0.0134 - acc: 0.9956 - val_loss: 0.0176 - val_acc: 0.9939\n",
      "Epoch 7/40\n",
      "60000/60000 [==============================] - 5s 77us/step - loss: 0.0115 - acc: 0.9963 - val_loss: 0.0176 - val_acc: 0.9943\n",
      "Epoch 8/40\n",
      "60000/60000 [==============================] - 5s 79us/step - loss: 0.0100 - acc: 0.9968 - val_loss: 0.0162 - val_acc: 0.9947\n",
      "Epoch 9/40\n",
      "60000/60000 [==============================] - 5s 79us/step - loss: 0.0088 - acc: 0.9972 - val_loss: 0.0202 - val_acc: 0.9935\n",
      "Epoch 10/40\n",
      "60000/60000 [==============================] - 5s 79us/step - loss: 0.0075 - acc: 0.9976 - val_loss: 0.0268 - val_acc: 0.9915\n",
      "Epoch 11/40\n",
      "60000/60000 [==============================] - 5s 84us/step - loss: 0.0066 - acc: 0.9979 - val_loss: 0.0130 - val_acc: 0.9957\n",
      "Epoch 12/40\n",
      "60000/60000 [==============================] - 5s 78us/step - loss: 0.0058 - acc: 0.9982 - val_loss: 0.0129 - val_acc: 0.9959\n",
      "Epoch 13/40\n",
      "60000/60000 [==============================] - 5s 78us/step - loss: 0.0051 - acc: 0.9984 - val_loss: 0.0135 - val_acc: 0.9956\n",
      "Epoch 14/40\n",
      "60000/60000 [==============================] - 5s 79us/step - loss: 0.0044 - acc: 0.9987 - val_loss: 0.0132 - val_acc: 0.9959\n",
      "Epoch 15/40\n",
      "60000/60000 [==============================] - 5s 79us/step - loss: 0.0039 - acc: 0.9988 - val_loss: 0.0138 - val_acc: 0.9958\n",
      "Epoch 16/40\n",
      "60000/60000 [==============================] - 5s 79us/step - loss: 0.0033 - acc: 0.9991 - val_loss: 0.0137 - val_acc: 0.9957\n",
      "Epoch 17/40\n",
      "60000/60000 [==============================] - 5s 79us/step - loss: 0.0028 - acc: 0.9992 - val_loss: 0.0158 - val_acc: 0.9955\n",
      "Epoch 18/40\n",
      "60000/60000 [==============================] - 5s 79us/step - loss: 0.0025 - acc: 0.9994 - val_loss: 0.0144 - val_acc: 0.9958\n",
      "Epoch 19/40\n",
      "60000/60000 [==============================] - 5s 80us/step - loss: 0.0022 - acc: 0.9995 - val_loss: 0.0143 - val_acc: 0.9957\n",
      "Epoch 20/40\n",
      "60000/60000 [==============================] - 5s 79us/step - loss: 0.0019 - acc: 0.9996 - val_loss: 0.0150 - val_acc: 0.9957\n",
      "Epoch 21/40\n",
      "60000/60000 [==============================] - 5s 79us/step - loss: 0.0016 - acc: 0.9997 - val_loss: 0.0158 - val_acc: 0.9955\n",
      "Epoch 22/40\n",
      "60000/60000 [==============================] - 5s 80us/step - loss: 0.0014 - acc: 0.9997 - val_loss: 0.0140 - val_acc: 0.9960\n",
      "Epoch 23/40\n",
      "60000/60000 [==============================] - 5s 80us/step - loss: 0.0012 - acc: 0.9998 - val_loss: 0.0145 - val_acc: 0.9958\n",
      "Epoch 24/40\n",
      "60000/60000 [==============================] - 5s 79us/step - loss: 9.1949e-04 - acc: 0.9998 - val_loss: 0.0148 - val_acc: 0.9959\n",
      "Epoch 25/40\n",
      "60000/60000 [==============================] - 5s 80us/step - loss: 8.1727e-04 - acc: 0.9999 - val_loss: 0.0141 - val_acc: 0.9961\n",
      "Epoch 26/40\n",
      "60000/60000 [==============================] - 5s 81us/step - loss: 6.8618e-04 - acc: 0.9999 - val_loss: 0.0145 - val_acc: 0.9961\n",
      "Epoch 27/40\n",
      "60000/60000 [==============================] - 5s 79us/step - loss: 6.1329e-04 - acc: 0.9999 - val_loss: 0.0146 - val_acc: 0.9961\n",
      "Epoch 28/40\n",
      "60000/60000 [==============================] - 5s 80us/step - loss: 5.0949e-04 - acc: 0.9999 - val_loss: 0.0154 - val_acc: 0.9960\n",
      "Epoch 29/40\n",
      "60000/60000 [==============================] - 5s 79us/step - loss: 4.6470e-04 - acc: 0.9999 - val_loss: 0.0153 - val_acc: 0.9960\n",
      "Epoch 30/40\n",
      "60000/60000 [==============================] - 5s 81us/step - loss: 3.8221e-04 - acc: 1.0000 - val_loss: 0.0153 - val_acc: 0.9960\n",
      "Epoch 31/40\n",
      "60000/60000 [==============================] - 5s 81us/step - loss: 2.9260e-04 - acc: 1.0000 - val_loss: 0.0155 - val_acc: 0.9959\n",
      "Epoch 32/40\n",
      "60000/60000 [==============================] - 5s 79us/step - loss: 2.6189e-04 - acc: 1.0000 - val_loss: 0.0156 - val_acc: 0.9962\n",
      "Epoch 33/40\n",
      "60000/60000 [==============================] - 5s 80us/step - loss: 2.4128e-04 - acc: 1.0000 - val_loss: 0.0158 - val_acc: 0.9961\n",
      "Epoch 34/40\n",
      "60000/60000 [==============================] - 5s 81us/step - loss: 2.0220e-04 - acc: 1.0000 - val_loss: 0.0157 - val_acc: 0.9961\n",
      "Epoch 35/40\n",
      "60000/60000 [==============================] - 5s 79us/step - loss: 1.7971e-04 - acc: 1.0000 - val_loss: 0.0160 - val_acc: 0.9961\n",
      "Epoch 36/40\n",
      "60000/60000 [==============================] - 5s 87us/step - loss: 1.5870e-04 - acc: 1.0000 - val_loss: 0.0160 - val_acc: 0.9960\n",
      "Epoch 37/40\n",
      "60000/60000 [==============================] - 5s 84us/step - loss: 1.4969e-04 - acc: 1.0000 - val_loss: 0.0159 - val_acc: 0.9962\n",
      "Epoch 38/40\n",
      "60000/60000 [==============================] - 5s 85us/step - loss: 1.3145e-04 - acc: 1.0000 - val_loss: 0.0161 - val_acc: 0.9962\n",
      "Epoch 39/40\n",
      "60000/60000 [==============================] - 5s 81us/step - loss: 1.2225e-04 - acc: 1.0000 - val_loss: 0.0163 - val_acc: 0.9962\n",
      "Epoch 40/40\n",
      "60000/60000 [==============================] - 5s 79us/step - loss: 1.1596e-04 - acc: 1.0000 - val_loss: 0.0165 - val_acc: 0.9962\n"
     ]
    }
   ],
   "source": [
    "model_result = model.fit(x_train, y_train,\n",
    "                        batch_size = 70,\n",
    "                        epochs = 40,\n",
    "                        verbose = 1,\n",
    "                        validation_data = (x_test, y_test))"
   ]
  },
  {
   "cell_type": "code",
   "execution_count": 26,
   "metadata": {},
   "outputs": [
    {
     "name": "stdout",
     "output_type": "stream",
     "text": [
      "10000/10000 [==============================] - 0s 37us/step\n",
      "loss: 0.01649379156841726 正確率: 0.9961499969482421\n"
     ]
    }
   ],
   "source": [
    "score_class=model.evaluate(x_test,y_test)\n",
    "print('loss:',score_class[0],'正確率:',score_class[1])"
   ]
  }
 ],
 "metadata": {
  "kernelspec": {
   "display_name": "Python 3",
   "language": "python",
   "name": "python3"
  },
  "language_info": {
   "codemirror_mode": {
    "name": "ipython",
    "version": 3
   },
   "file_extension": ".py",
   "mimetype": "text/x-python",
   "name": "python",
   "nbconvert_exporter": "python",
   "pygments_lexer": "ipython3",
   "version": "3.6.5"
  }
 },
 "nbformat": 4,
 "nbformat_minor": 2
}
