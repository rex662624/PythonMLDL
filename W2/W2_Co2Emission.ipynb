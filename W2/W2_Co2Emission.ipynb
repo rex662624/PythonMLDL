{
 "cells": [
  {
   "cell_type": "code",
   "execution_count": 1,
   "metadata": {},
   "outputs": [
    {
     "data": {
      "application/vnd.jupyter.widget-view+json": {
       "model_id": "4ac12f927cee459e89a499ff678f9f2f",
       "version_major": 2,
       "version_minor": 0
      },
      "text/plain": [
       "interactive(children=(IntSlider(value=1970, description='year', max=2015, min=1970), Output()), _dom_classes=(…"
      ]
     },
     "metadata": {},
     "output_type": "display_data"
    }
   ],
   "source": [
    "%matplotlib inline\n",
    "import numpy as np\n",
    "import matplotlib.pyplot as plt\n",
    "import csv\n",
    "from ipywidgets import interact\n",
    "\n",
    "#畫出普通的圓餅圖，然後中間放一個白色圓形以達成中空\n",
    "\n",
    "def Co2Emission(year=1970):\n",
    "    data = []\n",
    "    with open('./Co2Emission.csv',newline='') as csvfile:\n",
    "        reader = csv.reader(csvfile)\n",
    "        for row in reader:\n",
    "            data.append(row)#把數據讀進 data, 所以這裡 data 是一個二維 list\n",
    "    \n",
    "    fig, ax1 = plt.subplots()#subplot可以把多個subplot組合在一起\n",
    "    #resize figure\n",
    "    fig.set_figheight(8)\n",
    "    fig.set_figwidth(15)\n",
    "    \n",
    "    ax1.pie(data[year-1970+1] , labels = data[0],autopct='%1.1f%%')\n",
    "    \n",
    "    #draw white circle\n",
    "    circle = plt.Circle((0,0),0.7,fc='white')\n",
    "    ax1.add_artist(circle) #把circle加進圖中\n",
    "    '''或用\n",
    "    fig = plt.gcf()\n",
    "    fig.gca().add_artist(circle)\n",
    "    '''\n",
    "    \n",
    "    \n",
    "    \n",
    "    plt.axis('equal')#使x y 軸一樣長 不然會變橢圓形\n",
    "    plt.legend(loc='best')\n",
    "    plt.title(str(year)+' Co2 emission percentage')\n",
    "\n",
    "    \n",
    "#main \n",
    "interact(Co2Emission,year = (1970,2015) );\n",
    "\n"
   ]
  }
 ],
 "metadata": {
  "kernelspec": {
   "display_name": "Python 3",
   "language": "python",
   "name": "python3"
  },
  "language_info": {
   "codemirror_mode": {
    "name": "ipython",
    "version": 3
   },
   "file_extension": ".py",
   "mimetype": "text/x-python",
   "name": "python",
   "nbconvert_exporter": "python",
   "pygments_lexer": "ipython3",
   "version": "3.6.5"
  }
 },
 "nbformat": 4,
 "nbformat_minor": 2
}
