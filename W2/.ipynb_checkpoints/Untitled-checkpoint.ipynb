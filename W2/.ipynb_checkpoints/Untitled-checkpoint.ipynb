{
 "cells": [
  {
   "cell_type": "code",
   "execution_count": 180,
   "metadata": {},
   "outputs": [
    {
     "data": {
      "application/vnd.jupyter.widget-view+json": {
       "model_id": "f4a1fb668e80428080325000c7301da8",
       "version_major": 2,
       "version_minor": 0
      },
      "text/plain": [
       "interactive(children=(IntSlider(value=1970, description='year', max=2015, min=1970), Output()), _dom_classes=(…"
      ]
     },
     "metadata": {},
     "output_type": "display_data"
    }
   ],
   "source": [
    "%matplotlib inline\n",
    "import numpy as np\n",
    "import matplotlib.pyplot as plt\n",
    "import csv\n",
    "from ipywidgets import interact\n",
    "\n",
    "def Co2Emission(year=1970):\n",
    "    data = []\n",
    "    with open('C:/Users/USER/Desktop/PythonMLDL/W2/Co2Emission.csv',newline='') as csvfile:\n",
    "        reader = csv.reader(csvfile)\n",
    "        for row in reader:\n",
    "            data.append(row)#把數據讀進 data, 所以這裡 data 是一個二維 list\n",
    "        \n",
    "    fig = plt.figure(figsize=(15,8))        \n",
    "    texts = plt.pie(data[year-1970+1] , labels = data[0],autopct='%1.1f%%')\n",
    "    plt.axis('equal')\n",
    "    plt.legend(loc='best')\n",
    "    plt.title(str(year)+' Co2 emission percentage')\n",
    "\n",
    "interact(Co2Emission,year = (1970,2015) );"
   ]
  },
  {
   "cell_type": "code",
   "execution_count": null,
   "metadata": {},
   "outputs": [],
   "source": []
  }
 ],
 "metadata": {
  "kernelspec": {
   "display_name": "Python 3",
   "language": "python",
   "name": "python3"
  },
  "language_info": {
   "codemirror_mode": {
    "name": "ipython",
    "version": 3
   },
   "file_extension": ".py",
   "mimetype": "text/x-python",
   "name": "python",
   "nbconvert_exporter": "python",
   "pygments_lexer": "ipython3",
   "version": "3.6.5"
  }
 },
 "nbformat": 4,
 "nbformat_minor": 2
}
