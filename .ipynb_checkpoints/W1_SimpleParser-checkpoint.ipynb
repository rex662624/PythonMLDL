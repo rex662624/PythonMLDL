{
 "cells": [
  {
   "cell_type": "code",
   "execution_count": null,
   "metadata": {},
   "outputs": [],
   "source": [
    "from bs4 import BeautifulSoup\n",
    "from flask import request\n",
    "import requests\n",
    "import re\n",
    "\n",
    "\n",
    "def findVideo(string):\n",
    "    url = \"https://www.youtube.com/results?search_query=\" + string #Youtube的search結果網址\n",
    "    res = requests.get(url)#把網頁抓下來\n",
    "    soup = BeautifulSoup(res.text,'html.parser')#text 屬性就是 html 檔案，指定 html 作為解析器\n",
    "    \n",
    "    #去找超連結的group <a href> ,https://www.youtube.com/watch?v=[hash值] 我們的目的是要把[hash值]抓出來\n",
    "    for entry in soup.select('a'): #篩選是a標籤 的元素\n",
    "        \n",
    "        #把entry中先抓出href裡面的人(表示是超連結)，再把有\"v=\"的篩選出來， (.* 是regular expression)。\n",
    "        m = re.search(\"v=(.*)\",entry.get('href'))#entry.get('href') 在這裡等同於 entry['href']\n",
    "        \n",
    "        if m:\n",
    "            return(\"https://www.youtube.com/watch?\"+m.group())#找到的第一個非NONE的就return\n",
    "    \n",
    "#main     \n",
    "in_string = input()\n",
    "findVideo(in_string)    "
   ]
  },
  {
   "cell_type": "code",
   "execution_count": null,
   "metadata": {},
   "outputs": [],
   "source": []
  }
 ],
 "metadata": {
  "kernelspec": {
   "display_name": "Python 3",
   "language": "python",
   "name": "python3"
  },
  "language_info": {
   "codemirror_mode": {
    "name": "ipython",
    "version": 3
   },
   "file_extension": ".py",
   "mimetype": "text/x-python",
   "name": "python",
   "nbconvert_exporter": "python",
   "pygments_lexer": "ipython3",
   "version": "3.6.5"
  }
 },
 "nbformat": 4,
 "nbformat_minor": 2
}
