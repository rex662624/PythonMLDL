{
 "cells": [
  {
   "cell_type": "markdown",
   "metadata": {},
   "source": [
    "### 主題：NBA salary prediction\n",
    "\n",
    "NBA球員的薪水想必與他們在場上表現有一定的關係，因此以下將透過場上的一些統計數據，看看是否能用linear regression 成功預測 NBA 球員的薪水。"
   ]
  },
  {
   "cell_type": "code",
   "execution_count": 1,
   "metadata": {},
   "outputs": [],
   "source": [
    "%matplotlib inline\n",
    "import numpy as np\n",
    "import matplotlib.pyplot as plt\n",
    "import pandas as pd"
   ]
  },
  {
   "cell_type": "markdown",
   "metadata": {},
   "source": [
    "### **讀入資料並清掉Nan**  [資料來源]( https://www.kaggle.com/aishjun/nba-salaries-prediction-in-20172018-season#2017-18_NBA_salary.csv)"
   ]
  },
  {
   "cell_type": "code",
   "execution_count": 2,
   "metadata": {
    "scrolled": true
   },
   "outputs": [
    {
     "data": {
      "text/html": [
       "<div>\n",
       "<style scoped>\n",
       "    .dataframe tbody tr th:only-of-type {\n",
       "        vertical-align: middle;\n",
       "    }\n",
       "\n",
       "    .dataframe tbody tr th {\n",
       "        vertical-align: top;\n",
       "    }\n",
       "\n",
       "    .dataframe thead th {\n",
       "        text-align: right;\n",
       "    }\n",
       "</style>\n",
       "<table border=\"1\" class=\"dataframe\">\n",
       "  <thead>\n",
       "    <tr style=\"text-align: right;\">\n",
       "      <th></th>\n",
       "      <th>Player</th>\n",
       "      <th>Salary</th>\n",
       "      <th>NBA_Country</th>\n",
       "      <th>NBA_DraftNumber</th>\n",
       "      <th>Age</th>\n",
       "      <th>Tm</th>\n",
       "      <th>G</th>\n",
       "      <th>MP</th>\n",
       "      <th>PER</th>\n",
       "      <th>TS%</th>\n",
       "      <th>...</th>\n",
       "      <th>TOV%</th>\n",
       "      <th>USG%</th>\n",
       "      <th>OWS</th>\n",
       "      <th>DWS</th>\n",
       "      <th>WS</th>\n",
       "      <th>WS/48</th>\n",
       "      <th>OBPM</th>\n",
       "      <th>DBPM</th>\n",
       "      <th>BPM</th>\n",
       "      <th>VORP</th>\n",
       "    </tr>\n",
       "  </thead>\n",
       "  <tbody>\n",
       "    <tr>\n",
       "      <th>0</th>\n",
       "      <td>Zhou Qi</td>\n",
       "      <td>815615</td>\n",
       "      <td>China</td>\n",
       "      <td>43</td>\n",
       "      <td>22</td>\n",
       "      <td>HOU</td>\n",
       "      <td>16</td>\n",
       "      <td>87</td>\n",
       "      <td>0.6</td>\n",
       "      <td>0.303</td>\n",
       "      <td>...</td>\n",
       "      <td>18.2</td>\n",
       "      <td>19.5</td>\n",
       "      <td>-0.4</td>\n",
       "      <td>0.1</td>\n",
       "      <td>-0.2</td>\n",
       "      <td>-0.121</td>\n",
       "      <td>-10.6</td>\n",
       "      <td>0.5</td>\n",
       "      <td>-10.1</td>\n",
       "      <td>-0.2</td>\n",
       "    </tr>\n",
       "    <tr>\n",
       "      <th>1</th>\n",
       "      <td>Zaza Pachulia</td>\n",
       "      <td>3477600</td>\n",
       "      <td>Georgia</td>\n",
       "      <td>42</td>\n",
       "      <td>33</td>\n",
       "      <td>GSW</td>\n",
       "      <td>66</td>\n",
       "      <td>937</td>\n",
       "      <td>16.8</td>\n",
       "      <td>0.608</td>\n",
       "      <td>...</td>\n",
       "      <td>19.3</td>\n",
       "      <td>17.2</td>\n",
       "      <td>1.7</td>\n",
       "      <td>1.4</td>\n",
       "      <td>3.1</td>\n",
       "      <td>0.160</td>\n",
       "      <td>-0.6</td>\n",
       "      <td>1.3</td>\n",
       "      <td>0.8</td>\n",
       "      <td>0.7</td>\n",
       "    </tr>\n",
       "    <tr>\n",
       "      <th>2</th>\n",
       "      <td>Zach Randolph</td>\n",
       "      <td>12307692</td>\n",
       "      <td>USA</td>\n",
       "      <td>19</td>\n",
       "      <td>36</td>\n",
       "      <td>SAC</td>\n",
       "      <td>59</td>\n",
       "      <td>1508</td>\n",
       "      <td>17.3</td>\n",
       "      <td>0.529</td>\n",
       "      <td>...</td>\n",
       "      <td>12.5</td>\n",
       "      <td>27.6</td>\n",
       "      <td>0.3</td>\n",
       "      <td>1.1</td>\n",
       "      <td>1.4</td>\n",
       "      <td>0.046</td>\n",
       "      <td>-0.6</td>\n",
       "      <td>-1.3</td>\n",
       "      <td>-1.9</td>\n",
       "      <td>0.0</td>\n",
       "    </tr>\n",
       "    <tr>\n",
       "      <th>3</th>\n",
       "      <td>Zach LaVine</td>\n",
       "      <td>3202217</td>\n",
       "      <td>USA</td>\n",
       "      <td>13</td>\n",
       "      <td>22</td>\n",
       "      <td>CHI</td>\n",
       "      <td>24</td>\n",
       "      <td>656</td>\n",
       "      <td>14.6</td>\n",
       "      <td>0.499</td>\n",
       "      <td>...</td>\n",
       "      <td>9.7</td>\n",
       "      <td>29.5</td>\n",
       "      <td>-0.1</td>\n",
       "      <td>0.5</td>\n",
       "      <td>0.4</td>\n",
       "      <td>0.027</td>\n",
       "      <td>-0.7</td>\n",
       "      <td>-2.0</td>\n",
       "      <td>-2.6</td>\n",
       "      <td>-0.1</td>\n",
       "    </tr>\n",
       "    <tr>\n",
       "      <th>4</th>\n",
       "      <td>Zach Collins</td>\n",
       "      <td>3057240</td>\n",
       "      <td>USA</td>\n",
       "      <td>10</td>\n",
       "      <td>20</td>\n",
       "      <td>POR</td>\n",
       "      <td>62</td>\n",
       "      <td>979</td>\n",
       "      <td>8.2</td>\n",
       "      <td>0.487</td>\n",
       "      <td>...</td>\n",
       "      <td>15.6</td>\n",
       "      <td>15.5</td>\n",
       "      <td>-0.4</td>\n",
       "      <td>1.2</td>\n",
       "      <td>0.8</td>\n",
       "      <td>0.038</td>\n",
       "      <td>-3.7</td>\n",
       "      <td>0.9</td>\n",
       "      <td>-2.9</td>\n",
       "      <td>-0.2</td>\n",
       "    </tr>\n",
       "  </tbody>\n",
       "</table>\n",
       "<p>5 rows × 28 columns</p>\n",
       "</div>"
      ],
      "text/plain": [
       "          Player    Salary NBA_Country  NBA_DraftNumber  Age   Tm   G    MP  \\\n",
       "0        Zhou Qi    815615       China               43   22  HOU  16    87   \n",
       "1  Zaza Pachulia   3477600     Georgia               42   33  GSW  66   937   \n",
       "2  Zach Randolph  12307692         USA               19   36  SAC  59  1508   \n",
       "3    Zach LaVine   3202217         USA               13   22  CHI  24   656   \n",
       "4   Zach Collins   3057240         USA               10   20  POR  62   979   \n",
       "\n",
       "    PER    TS%  ...   TOV%  USG%  OWS  DWS   WS  WS/48  OBPM  DBPM   BPM  VORP  \n",
       "0   0.6  0.303  ...   18.2  19.5 -0.4  0.1 -0.2 -0.121 -10.6   0.5 -10.1  -0.2  \n",
       "1  16.8  0.608  ...   19.3  17.2  1.7  1.4  3.1  0.160  -0.6   1.3   0.8   0.7  \n",
       "2  17.3  0.529  ...   12.5  27.6  0.3  1.1  1.4  0.046  -0.6  -1.3  -1.9   0.0  \n",
       "3  14.6  0.499  ...    9.7  29.5 -0.1  0.5  0.4  0.027  -0.7  -2.0  -2.6  -0.1  \n",
       "4   8.2  0.487  ...   15.6  15.5 -0.4  1.2  0.8  0.038  -3.7   0.9  -2.9  -0.2  \n",
       "\n",
       "[5 rows x 28 columns]"
      ]
     },
     "execution_count": 2,
     "metadata": {},
     "output_type": "execute_result"
    }
   ],
   "source": [
    "dataset = pd.read_csv('./2017-18_NBA_salary.csv')\n",
    "dataset.head()"
   ]
  },
  {
   "cell_type": "code",
   "execution_count": 3,
   "metadata": {},
   "outputs": [
    {
     "data": {
      "text/plain": [
       "Player             False\n",
       "Salary             False\n",
       "NBA_Country        False\n",
       "NBA_DraftNumber    False\n",
       "Age                False\n",
       "Tm                 False\n",
       "G                  False\n",
       "MP                 False\n",
       "PER                False\n",
       "TS%                 True\n",
       "3PAr                True\n",
       "FTr                 True\n",
       "ORB%               False\n",
       "DRB%               False\n",
       "TRB%               False\n",
       "AST%               False\n",
       "STL%               False\n",
       "BLK%               False\n",
       "TOV%                True\n",
       "USG%               False\n",
       "OWS                False\n",
       "DWS                False\n",
       "WS                 False\n",
       "WS/48              False\n",
       "OBPM               False\n",
       "DBPM               False\n",
       "BPM                False\n",
       "VORP               False\n",
       "dtype: bool"
      ]
     },
     "execution_count": 3,
     "metadata": {},
     "output_type": "execute_result"
    }
   ],
   "source": [
    "dataset.isnull().any() #check if there is any null in dataset"
   ]
  },
  {
   "cell_type": "code",
   "execution_count": 4,
   "metadata": {},
   "outputs": [
    {
     "data": {
      "text/plain": [
       "(485, 28)"
      ]
     },
     "execution_count": 4,
     "metadata": {},
     "output_type": "execute_result"
    }
   ],
   "source": [
    "dataset.shape"
   ]
  },
  {
   "cell_type": "code",
   "execution_count": 5,
   "metadata": {},
   "outputs": [
    {
     "data": {
      "text/plain": [
       "(483, 28)"
      ]
     },
     "execution_count": 5,
     "metadata": {},
     "output_type": "execute_result"
    }
   ],
   "source": [
    "dataset = dataset.dropna(axis = 0) # drop掉nan\n",
    "dataset.shape"
   ]
  },
  {
   "cell_type": "code",
   "execution_count": 6,
   "metadata": {},
   "outputs": [
    {
     "data": {
      "text/plain": [
       "False"
      ]
     },
     "execution_count": 6,
     "metadata": {},
     "output_type": "execute_result"
    }
   ],
   "source": [
    "dataset.isnull().any().any()"
   ]
  },
  {
   "cell_type": "markdown",
   "metadata": {},
   "source": [
    "### 過濾出我們想要的feature"
   ]
  },
  {
   "cell_type": "code",
   "execution_count": 7,
   "metadata": {},
   "outputs": [
    {
     "data": {
      "text/html": [
       "<div>\n",
       "<style scoped>\n",
       "    .dataframe tbody tr th:only-of-type {\n",
       "        vertical-align: middle;\n",
       "    }\n",
       "\n",
       "    .dataframe tbody tr th {\n",
       "        vertical-align: top;\n",
       "    }\n",
       "\n",
       "    .dataframe thead th {\n",
       "        text-align: right;\n",
       "    }\n",
       "</style>\n",
       "<table border=\"1\" class=\"dataframe\">\n",
       "  <thead>\n",
       "    <tr style=\"text-align: right;\">\n",
       "      <th></th>\n",
       "      <th>NBA_DraftNumber</th>\n",
       "      <th>Age</th>\n",
       "      <th>G</th>\n",
       "      <th>MP</th>\n",
       "      <th>PER</th>\n",
       "      <th>TS%</th>\n",
       "      <th>3PAr</th>\n",
       "      <th>FTr</th>\n",
       "      <th>ORB%</th>\n",
       "      <th>DRB%</th>\n",
       "      <th>...</th>\n",
       "      <th>TOV%</th>\n",
       "      <th>USG%</th>\n",
       "      <th>OWS</th>\n",
       "      <th>DWS</th>\n",
       "      <th>WS</th>\n",
       "      <th>WS/48</th>\n",
       "      <th>OBPM</th>\n",
       "      <th>DBPM</th>\n",
       "      <th>BPM</th>\n",
       "      <th>VORP</th>\n",
       "    </tr>\n",
       "  </thead>\n",
       "  <tbody>\n",
       "    <tr>\n",
       "      <th>0</th>\n",
       "      <td>43</td>\n",
       "      <td>22</td>\n",
       "      <td>16</td>\n",
       "      <td>87</td>\n",
       "      <td>0.6</td>\n",
       "      <td>0.303</td>\n",
       "      <td>0.593</td>\n",
       "      <td>0.370</td>\n",
       "      <td>6.5</td>\n",
       "      <td>16.8</td>\n",
       "      <td>...</td>\n",
       "      <td>18.2</td>\n",
       "      <td>19.5</td>\n",
       "      <td>-0.4</td>\n",
       "      <td>0.1</td>\n",
       "      <td>-0.2</td>\n",
       "      <td>-0.121</td>\n",
       "      <td>-10.6</td>\n",
       "      <td>0.5</td>\n",
       "      <td>-10.1</td>\n",
       "      <td>-0.2</td>\n",
       "    </tr>\n",
       "    <tr>\n",
       "      <th>1</th>\n",
       "      <td>42</td>\n",
       "      <td>33</td>\n",
       "      <td>66</td>\n",
       "      <td>937</td>\n",
       "      <td>16.8</td>\n",
       "      <td>0.608</td>\n",
       "      <td>0.004</td>\n",
       "      <td>0.337</td>\n",
       "      <td>11.0</td>\n",
       "      <td>25.0</td>\n",
       "      <td>...</td>\n",
       "      <td>19.3</td>\n",
       "      <td>17.2</td>\n",
       "      <td>1.7</td>\n",
       "      <td>1.4</td>\n",
       "      <td>3.1</td>\n",
       "      <td>0.160</td>\n",
       "      <td>-0.6</td>\n",
       "      <td>1.3</td>\n",
       "      <td>0.8</td>\n",
       "      <td>0.7</td>\n",
       "    </tr>\n",
       "    <tr>\n",
       "      <th>2</th>\n",
       "      <td>19</td>\n",
       "      <td>36</td>\n",
       "      <td>59</td>\n",
       "      <td>1508</td>\n",
       "      <td>17.3</td>\n",
       "      <td>0.529</td>\n",
       "      <td>0.193</td>\n",
       "      <td>0.140</td>\n",
       "      <td>7.0</td>\n",
       "      <td>23.8</td>\n",
       "      <td>...</td>\n",
       "      <td>12.5</td>\n",
       "      <td>27.6</td>\n",
       "      <td>0.3</td>\n",
       "      <td>1.1</td>\n",
       "      <td>1.4</td>\n",
       "      <td>0.046</td>\n",
       "      <td>-0.6</td>\n",
       "      <td>-1.3</td>\n",
       "      <td>-1.9</td>\n",
       "      <td>0.0</td>\n",
       "    </tr>\n",
       "    <tr>\n",
       "      <th>3</th>\n",
       "      <td>13</td>\n",
       "      <td>22</td>\n",
       "      <td>24</td>\n",
       "      <td>656</td>\n",
       "      <td>14.6</td>\n",
       "      <td>0.499</td>\n",
       "      <td>0.346</td>\n",
       "      <td>0.301</td>\n",
       "      <td>1.4</td>\n",
       "      <td>14.4</td>\n",
       "      <td>...</td>\n",
       "      <td>9.7</td>\n",
       "      <td>29.5</td>\n",
       "      <td>-0.1</td>\n",
       "      <td>0.5</td>\n",
       "      <td>0.4</td>\n",
       "      <td>0.027</td>\n",
       "      <td>-0.7</td>\n",
       "      <td>-2.0</td>\n",
       "      <td>-2.6</td>\n",
       "      <td>-0.1</td>\n",
       "    </tr>\n",
       "    <tr>\n",
       "      <th>4</th>\n",
       "      <td>10</td>\n",
       "      <td>20</td>\n",
       "      <td>62</td>\n",
       "      <td>979</td>\n",
       "      <td>8.2</td>\n",
       "      <td>0.487</td>\n",
       "      <td>0.387</td>\n",
       "      <td>0.146</td>\n",
       "      <td>4.9</td>\n",
       "      <td>18.3</td>\n",
       "      <td>...</td>\n",
       "      <td>15.6</td>\n",
       "      <td>15.5</td>\n",
       "      <td>-0.4</td>\n",
       "      <td>1.2</td>\n",
       "      <td>0.8</td>\n",
       "      <td>0.038</td>\n",
       "      <td>-3.7</td>\n",
       "      <td>0.9</td>\n",
       "      <td>-2.9</td>\n",
       "      <td>-0.2</td>\n",
       "    </tr>\n",
       "  </tbody>\n",
       "</table>\n",
       "<p>5 rows × 24 columns</p>\n",
       "</div>"
      ],
      "text/plain": [
       "   NBA_DraftNumber  Age   G    MP   PER    TS%   3PAr    FTr  ORB%  DRB%  \\\n",
       "0               43   22  16    87   0.6  0.303  0.593  0.370   6.5  16.8   \n",
       "1               42   33  66   937  16.8  0.608  0.004  0.337  11.0  25.0   \n",
       "2               19   36  59  1508  17.3  0.529  0.193  0.140   7.0  23.8   \n",
       "3               13   22  24   656  14.6  0.499  0.346  0.301   1.4  14.4   \n",
       "4               10   20  62   979   8.2  0.487  0.387  0.146   4.9  18.3   \n",
       "\n",
       "   ...   TOV%  USG%  OWS  DWS   WS  WS/48  OBPM  DBPM   BPM  VORP  \n",
       "0  ...   18.2  19.5 -0.4  0.1 -0.2 -0.121 -10.6   0.5 -10.1  -0.2  \n",
       "1  ...   19.3  17.2  1.7  1.4  3.1  0.160  -0.6   1.3   0.8   0.7  \n",
       "2  ...   12.5  27.6  0.3  1.1  1.4  0.046  -0.6  -1.3  -1.9   0.0  \n",
       "3  ...    9.7  29.5 -0.1  0.5  0.4  0.027  -0.7  -2.0  -2.6  -0.1  \n",
       "4  ...   15.6  15.5 -0.4  1.2  0.8  0.038  -3.7   0.9  -2.9  -0.2  \n",
       "\n",
       "[5 rows x 24 columns]"
      ]
     },
     "execution_count": 7,
     "metadata": {},
     "output_type": "execute_result"
    }
   ],
   "source": [
    "salary_df= dataset.loc[:,['Salary']]# salary is the final prediction result\n",
    "#I drop these feature to predict, because they're not useful.\n",
    "feature_df =dataset.drop(['NBA_Country','Salary','Player','Tm'],axis=1)\n",
    "feature_df.head()"
   ]
  },
  {
   "cell_type": "markdown",
   "metadata": {},
   "source": [
    "### linear regression"
   ]
  },
  {
   "cell_type": "code",
   "execution_count": 8,
   "metadata": {},
   "outputs": [
    {
     "data": {
      "text/plain": [
       "LinearRegression(copy_X=True, fit_intercept=True, n_jobs=1, normalize=False)"
      ]
     },
     "execution_count": 8,
     "metadata": {},
     "output_type": "execute_result"
    }
   ],
   "source": [
    "from sklearn.linear_model import LinearRegression\n",
    "from sklearn.model_selection import train_test_split\n",
    "\n",
    "model = LinearRegression() \n",
    "x_train,x_test,y_train,y_test =train_test_split( feature_df , salary_df ,test_size = 0.2, random_state = 4)\n",
    "\n",
    "model.fit(x_train,y_train)"
   ]
  },
  {
   "cell_type": "code",
   "execution_count": 9,
   "metadata": {
    "scrolled": true
   },
   "outputs": [],
   "source": [
    "Y_pred = model.predict(x_test)"
   ]
  },
  {
   "cell_type": "code",
   "execution_count": 10,
   "metadata": {},
   "outputs": [
    {
     "data": {
      "text/plain": [
       "0.4391598877185242"
      ]
     },
     "execution_count": 10,
     "metadata": {},
     "output_type": "execute_result"
    }
   ],
   "source": [
    "model.score(x_test,y_test)"
   ]
  },
  {
   "cell_type": "markdown",
   "metadata": {},
   "source": [
    "### 發現Score 只有 43% 覺得表現不太好，因此下面改用變相的 classification 方法\n",
    "\n",
    "作法是每五百萬薪水為一個區間，將預測的 salary 和實際的 salary 做分類，最後查看有幾個數值是預測正確區間的。"
   ]
  },
  {
   "cell_type": "code",
   "execution_count": 11,
   "metadata": {},
   "outputs": [],
   "source": [
    "ytest = y_test.values"
   ]
  },
  {
   "cell_type": "code",
   "execution_count": 12,
   "metadata": {},
   "outputs": [],
   "source": [
    "NewPredict=[]\n",
    "NewReal=[]\n",
    "def ReValue(dataset,NewDataSet):\n",
    "    for i in dataset:\n",
    "        if i>=30000000:\n",
    "            NewDataSet.append(30000000)\n",
    "        elif i>=25000000:\n",
    "            NewDataSet.append(25000000)\n",
    "        elif i>=20000000:\n",
    "            NewDataSet.append(20000000)\n",
    "        elif i>=15000000:\n",
    "            NewDataSet.append(15000000)\n",
    "        elif i>=10000000:\n",
    "            NewDataSet.append(10000000)\n",
    "        elif i>=5000000:\n",
    "            NewDataSet.append(5000000)\n",
    "        else :\n",
    "            NewDataSet.append(1000000)\n",
    "            \n",
    "ReValue(Y_pred,NewPredict)\n",
    "ReValue(ytest,NewReal)\n",
    "assert(len(NewReal)==len(NewPredict))"
   ]
  },
  {
   "cell_type": "code",
   "execution_count": 13,
   "metadata": {},
   "outputs": [
    {
     "name": "stdout",
     "output_type": "stream",
     "text": [
      "97 個 testing data 中有 40 個 data 預測失誤 正確率58.76288659793814 %\n"
     ]
    }
   ],
   "source": [
    "error=0\n",
    "for i in range(1,len(NewPredict)-1):\n",
    "    if(NewReal[i]!=NewPredict[i]):\n",
    "        error+=1\n",
    "\n",
    "print(f\"{len(NewPredict)} 個 testing data 中有 {error} 個 data 預測失誤 正確率{100 *(len(NewPredict)-error)/len(NewPredict)} %\")"
   ]
  },
  {
   "cell_type": "code",
   "execution_count": null,
   "metadata": {},
   "outputs": [],
   "source": []
  }
 ],
 "metadata": {
  "kernelspec": {
   "display_name": "Python 3",
   "language": "python",
   "name": "python3"
  },
  "language_info": {
   "codemirror_mode": {
    "name": "ipython",
    "version": 3
   },
   "file_extension": ".py",
   "mimetype": "text/x-python",
   "name": "python",
   "nbconvert_exporter": "python",
   "pygments_lexer": "ipython3",
   "version": "3.6.5"
  }
 },
 "nbformat": 4,
 "nbformat_minor": 2
}
